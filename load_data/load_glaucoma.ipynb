{
 "cells": [
  {
   "cell_type": "code",
   "execution_count": 1,
   "metadata": {},
   "outputs": [
    {
     "name": "stderr",
     "output_type": "stream",
     "text": [
      "C:\\Users\\Rahul Mukthineni\\anaconda3\\lib\\site-packages\\tensorflow\\python\\framework\\dtypes.py:516: FutureWarning: Passing (type, 1) or '1type' as a synonym of type is deprecated; in a future version of numpy, it will be understood as (type, (1,)) / '(1,)type'.\n",
      "  _np_qint8 = np.dtype([(\"qint8\", np.int8, 1)])\n",
      "C:\\Users\\Rahul Mukthineni\\anaconda3\\lib\\site-packages\\tensorflow\\python\\framework\\dtypes.py:517: FutureWarning: Passing (type, 1) or '1type' as a synonym of type is deprecated; in a future version of numpy, it will be understood as (type, (1,)) / '(1,)type'.\n",
      "  _np_quint8 = np.dtype([(\"quint8\", np.uint8, 1)])\n",
      "C:\\Users\\Rahul Mukthineni\\anaconda3\\lib\\site-packages\\tensorflow\\python\\framework\\dtypes.py:518: FutureWarning: Passing (type, 1) or '1type' as a synonym of type is deprecated; in a future version of numpy, it will be understood as (type, (1,)) / '(1,)type'.\n",
      "  _np_qint16 = np.dtype([(\"qint16\", np.int16, 1)])\n",
      "C:\\Users\\Rahul Mukthineni\\anaconda3\\lib\\site-packages\\tensorflow\\python\\framework\\dtypes.py:519: FutureWarning: Passing (type, 1) or '1type' as a synonym of type is deprecated; in a future version of numpy, it will be understood as (type, (1,)) / '(1,)type'.\n",
      "  _np_quint16 = np.dtype([(\"quint16\", np.uint16, 1)])\n",
      "C:\\Users\\Rahul Mukthineni\\anaconda3\\lib\\site-packages\\tensorflow\\python\\framework\\dtypes.py:520: FutureWarning: Passing (type, 1) or '1type' as a synonym of type is deprecated; in a future version of numpy, it will be understood as (type, (1,)) / '(1,)type'.\n",
      "  _np_qint32 = np.dtype([(\"qint32\", np.int32, 1)])\n",
      "C:\\Users\\Rahul Mukthineni\\anaconda3\\lib\\site-packages\\tensorflow\\python\\framework\\dtypes.py:525: FutureWarning: Passing (type, 1) or '1type' as a synonym of type is deprecated; in a future version of numpy, it will be understood as (type, (1,)) / '(1,)type'.\n",
      "  np_resource = np.dtype([(\"resource\", np.ubyte, 1)])\n",
      "C:\\Users\\Rahul Mukthineni\\anaconda3\\lib\\site-packages\\tensorboard\\compat\\tensorflow_stub\\dtypes.py:541: FutureWarning: Passing (type, 1) or '1type' as a synonym of type is deprecated; in a future version of numpy, it will be understood as (type, (1,)) / '(1,)type'.\n",
      "  _np_qint8 = np.dtype([(\"qint8\", np.int8, 1)])\n",
      "C:\\Users\\Rahul Mukthineni\\anaconda3\\lib\\site-packages\\tensorboard\\compat\\tensorflow_stub\\dtypes.py:542: FutureWarning: Passing (type, 1) or '1type' as a synonym of type is deprecated; in a future version of numpy, it will be understood as (type, (1,)) / '(1,)type'.\n",
      "  _np_quint8 = np.dtype([(\"quint8\", np.uint8, 1)])\n",
      "C:\\Users\\Rahul Mukthineni\\anaconda3\\lib\\site-packages\\tensorboard\\compat\\tensorflow_stub\\dtypes.py:543: FutureWarning: Passing (type, 1) or '1type' as a synonym of type is deprecated; in a future version of numpy, it will be understood as (type, (1,)) / '(1,)type'.\n",
      "  _np_qint16 = np.dtype([(\"qint16\", np.int16, 1)])\n",
      "C:\\Users\\Rahul Mukthineni\\anaconda3\\lib\\site-packages\\tensorboard\\compat\\tensorflow_stub\\dtypes.py:544: FutureWarning: Passing (type, 1) or '1type' as a synonym of type is deprecated; in a future version of numpy, it will be understood as (type, (1,)) / '(1,)type'.\n",
      "  _np_quint16 = np.dtype([(\"quint16\", np.uint16, 1)])\n",
      "C:\\Users\\Rahul Mukthineni\\anaconda3\\lib\\site-packages\\tensorboard\\compat\\tensorflow_stub\\dtypes.py:545: FutureWarning: Passing (type, 1) or '1type' as a synonym of type is deprecated; in a future version of numpy, it will be understood as (type, (1,)) / '(1,)type'.\n",
      "  _np_qint32 = np.dtype([(\"qint32\", np.int32, 1)])\n",
      "C:\\Users\\Rahul Mukthineni\\anaconda3\\lib\\site-packages\\tensorboard\\compat\\tensorflow_stub\\dtypes.py:550: FutureWarning: Passing (type, 1) or '1type' as a synonym of type is deprecated; in a future version of numpy, it will be understood as (type, (1,)) / '(1,)type'.\n",
      "  np_resource = np.dtype([(\"resource\", np.ubyte, 1)])\n"
     ]
    }
   ],
   "source": [
    "import numpy as np # linear algebra\n",
    "import pandas as pd # data processing, CSV file I/O (e.g. pd.read_csv)\n",
    "import cv2\n",
    "import random\n",
    "from tqdm import tqdm\n",
    "import matplotlib.pyplot as plt\n",
    "from tensorflow.keras.preprocessing.image import ImageDataGenerator"
   ]
  },
  {
   "cell_type": "code",
   "execution_count": 2,
   "metadata": {},
   "outputs": [],
   "source": [
    "df=pd.read_csv(r\"C:\\Users\\Rahul Mukthineni\\Desktop\\opular.csv\")"
   ]
  },
  {
   "cell_type": "code",
   "execution_count": 3,
   "metadata": {},
   "outputs": [],
   "source": [
    "def has_glaucoma(text):\n",
    "    if \"glaucoma\" in text:\n",
    "        return 1\n",
    "    else:\n",
    "        return 0"
   ]
  },
  {
   "cell_type": "code",
   "execution_count": 4,
   "metadata": {},
   "outputs": [],
   "source": [
    "df[\"left_glaucoma\"] = df[\"Left-Diagnostic Keywords\"].apply(lambda x: has_glaucoma(x))\n",
    "df[\"right_glaucoma\"] = df[\"Right-Diagnostic Keywords\"].apply(lambda x: has_glaucoma(x))"
   ]
  },
  {
   "cell_type": "code",
   "execution_count": 5,
   "metadata": {},
   "outputs": [],
   "source": [
    "left_glaucoma = df.loc[(df.G ==1) & (df.left_glaucoma == 1)][\"Left-Fundus\"].values"
   ]
  },
  {
   "cell_type": "code",
   "execution_count": 9,
   "metadata": {},
   "outputs": [
    {
     "data": {
      "text/plain": [
       "array(['95_left.jpg', '153_left.jpg', '167_left.jpg', '178_left.jpg',\n",
       "       '247_left.jpg', '365_left.jpg', '583_left.jpg', '625_left.jpg',\n",
       "       '746_left.jpg', '931_left.jpg', '1209_left.jpg', '1210_left.jpg',\n",
       "       '1211_left.jpg', '1212_left.jpg', '1213_left.jpg', '1214_left.jpg',\n",
       "       '1215_left.jpg', '1216_left.jpg', '1217_left.jpg', '1218_left.jpg',\n",
       "       '1220_left.jpg', '1221_left.jpg', '1222_left.jpg', '1225_left.jpg',\n",
       "       '1226_left.jpg', '1227_left.jpg', '1229_left.jpg', '1230_left.jpg',\n",
       "       '1231_left.jpg', '1232_left.jpg', '1234_left.jpg', '1237_left.jpg',\n",
       "       '1239_left.jpg', '1241_left.jpg', '1246_left.jpg', '1247_left.jpg',\n",
       "       '1248_left.jpg', '1250_left.jpg', '1251_left.jpg', '1255_left.jpg',\n",
       "       '1256_left.jpg', '1258_left.jpg', '1259_left.jpg', '1260_left.jpg',\n",
       "       '1261_left.jpg', '1264_left.jpg', '1265_left.jpg', '1266_left.jpg',\n",
       "       '1267_left.jpg', '1268_left.jpg', '1269_left.jpg', '1270_left.jpg',\n",
       "       '1271_left.jpg', '1272_left.jpg', '1276_left.jpg', '1277_left.jpg',\n",
       "       '1279_left.jpg', '1280_left.jpg', '1281_left.jpg', '1282_left.jpg',\n",
       "       '1284_left.jpg', '1286_left.jpg', '1287_left.jpg', '1288_left.jpg',\n",
       "       '1289_left.jpg', '1290_left.jpg', '1291_left.jpg', '1294_left.jpg',\n",
       "       '1297_left.jpg', '1301_left.jpg', '1302_left.jpg', '1303_left.jpg',\n",
       "       '1306_left.jpg', '1307_left.jpg', '1309_left.jpg', '1314_left.jpg',\n",
       "       '1318_left.jpg', '1325_left.jpg', '1327_left.jpg', '1330_left.jpg',\n",
       "       '1334_left.jpg', '1344_left.jpg', '1345_left.jpg', '1351_left.jpg',\n",
       "       '1352_left.jpg', '1353_left.jpg', '1362_left.jpg', '1365_left.jpg',\n",
       "       '1371_left.jpg', '1374_left.jpg', '1378_left.jpg', '1383_left.jpg',\n",
       "       '1386_left.jpg', '1389_left.jpg', '1392_left.jpg', '1396_left.jpg',\n",
       "       '1397_left.jpg', '1402_left.jpg', '1404_left.jpg', '1405_left.jpg',\n",
       "       '1406_left.jpg', '1410_left.jpg', '1411_left.jpg', '1412_left.jpg',\n",
       "       '1414_left.jpg', '1418_left.jpg', '1419_left.jpg', '1421_left.jpg',\n",
       "       '1423_left.jpg', '1424_left.jpg', '1426_left.jpg', '1428_left.jpg',\n",
       "       '1429_left.jpg', '1431_left.jpg', '1433_left.jpg', '1434_left.jpg',\n",
       "       '1436_left.jpg', '1439_left.jpg', '1440_left.jpg', '1441_left.jpg',\n",
       "       '1443_left.jpg', '1447_left.jpg', '1450_left.jpg', '1458_left.jpg',\n",
       "       '1462_left.jpg', '1469_left.jpg', '1470_left.jpg', '1471_left.jpg',\n",
       "       '1473_left.jpg', '1474_left.jpg', '1475_left.jpg', '1477_left.jpg',\n",
       "       '1478_left.jpg', '1479_left.jpg', '1482_left.jpg', '1486_left.jpg',\n",
       "       '1487_left.jpg', '1488_left.jpg', '1489_left.jpg', '1491_left.jpg',\n",
       "       '1492_left.jpg', '1493_left.jpg', '1494_left.jpg', '1495_left.jpg',\n",
       "       '1497_left.jpg', '1498_left.jpg', '1514_left.jpg', '1515_left.jpg',\n",
       "       '1865_left.jpg', '1881_left.jpg', '1959_left.jpg', '1964_left.jpg',\n",
       "       '1967_left.jpg', '1970_left.jpg', '1971_left.jpg', '1975_left.jpg',\n",
       "       '1977_left.jpg', '1985_left.jpg', '1986_left.jpg', '2006_left.jpg',\n",
       "       '2020_left.jpg', '2030_left.jpg', '2063_left.jpg', '2074_left.jpg'],\n",
       "      dtype=object)"
      ]
     },
     "execution_count": 9,
     "metadata": {},
     "output_type": "execute_result"
    }
   ],
   "source": [
    "left_glaucoma"
   ]
  },
  {
   "cell_type": "code",
   "execution_count": 6,
   "metadata": {},
   "outputs": [],
   "source": [
    "right_glaucoma = df.loc[(df.G ==1) & (df.right_glaucoma == 1)][\"Right-Fundus\"].values"
   ]
  },
  {
   "cell_type": "code",
   "execution_count": 10,
   "metadata": {},
   "outputs": [
    {
     "data": {
      "text/plain": [
       "array(['43_right.jpg', '167_right.jpg', '238_right.jpg', '247_right.jpg',\n",
       "       '365_right.jpg', '583_right.jpg', '746_right.jpg', '931_right.jpg',\n",
       "       '1209_right.jpg', '1210_right.jpg', '1211_right.jpg',\n",
       "       '1212_right.jpg', '1213_right.jpg', '1214_right.jpg',\n",
       "       '1215_right.jpg', '1216_right.jpg', '1217_right.jpg',\n",
       "       '1218_right.jpg', '1220_right.jpg', '1221_right.jpg',\n",
       "       '1222_right.jpg', '1225_right.jpg', '1226_right.jpg',\n",
       "       '1227_right.jpg', '1229_right.jpg', '1230_right.jpg',\n",
       "       '1231_right.jpg', '1232_right.jpg', '1234_right.jpg',\n",
       "       '1237_right.jpg', '1238_right.jpg', '1239_right.jpg',\n",
       "       '1241_right.jpg', '1243_right.jpg', '1246_right.jpg',\n",
       "       '1247_right.jpg', '1248_right.jpg', '1251_right.jpg',\n",
       "       '1254_right.jpg', '1255_right.jpg', '1256_right.jpg',\n",
       "       '1258_right.jpg', '1259_right.jpg', '1260_right.jpg',\n",
       "       '1261_right.jpg', '1262_right.jpg', '1263_right.jpg',\n",
       "       '1265_right.jpg', '1266_right.jpg', '1267_right.jpg',\n",
       "       '1268_right.jpg', '1269_right.jpg', '1270_right.jpg',\n",
       "       '1271_right.jpg', '1272_right.jpg', '1273_right.jpg',\n",
       "       '1276_right.jpg', '1277_right.jpg', '1279_right.jpg',\n",
       "       '1281_right.jpg', '1282_right.jpg', '1284_right.jpg',\n",
       "       '1286_right.jpg', '1287_right.jpg', '1288_right.jpg',\n",
       "       '1289_right.jpg', '1290_right.jpg', '1291_right.jpg',\n",
       "       '1294_right.jpg', '1297_right.jpg', '1301_right.jpg',\n",
       "       '1302_right.jpg', '1306_right.jpg', '1307_right.jpg',\n",
       "       '1309_right.jpg', '1314_right.jpg', '1318_right.jpg',\n",
       "       '1319_right.jpg', '1325_right.jpg', '1327_right.jpg',\n",
       "       '1330_right.jpg', '1334_right.jpg', '1344_right.jpg',\n",
       "       '1345_right.jpg', '1351_right.jpg', '1352_right.jpg',\n",
       "       '1353_right.jpg', '1362_right.jpg', '1365_right.jpg',\n",
       "       '1371_right.jpg', '1374_right.jpg', '1377_right.jpg',\n",
       "       '1378_right.jpg', '1386_right.jpg', '1388_right.jpg',\n",
       "       '1389_right.jpg', '1392_right.jpg', '1393_right.jpg',\n",
       "       '1408_right.jpg', '1409_right.jpg', '1411_right.jpg',\n",
       "       '1412_right.jpg', '1413_right.jpg', '1415_right.jpg',\n",
       "       '1416_right.jpg', '1417_right.jpg', '1420_right.jpg',\n",
       "       '1425_right.jpg', '1427_right.jpg', '1431_right.jpg',\n",
       "       '1433_right.jpg', '1434_right.jpg', '1436_right.jpg',\n",
       "       '1440_right.jpg', '1443_right.jpg', '1453_right.jpg',\n",
       "       '1458_right.jpg', '1465_right.jpg', '1469_right.jpg',\n",
       "       '1470_right.jpg', '1473_right.jpg', '1476_right.jpg',\n",
       "       '1477_right.jpg', '1480_right.jpg', '1485_right.jpg',\n",
       "       '1487_right.jpg', '1488_right.jpg', '1492_right.jpg',\n",
       "       '1495_right.jpg', '1496_right.jpg', '1497_right.jpg',\n",
       "       '1503_right.jpg', '1507_right.jpg', '1510_right.jpg',\n",
       "       '1881_right.jpg', '1959_right.jpg', '1963_right.jpg',\n",
       "       '1967_right.jpg', '1977_right.jpg', '1990_right.jpg',\n",
       "       '1999_right.jpg', '2030_right.jpg', '2032_right.jpg',\n",
       "       '2048_right.jpg', '2063_right.jpg'], dtype=object)"
      ]
     },
     "execution_count": 10,
     "metadata": {},
     "output_type": "execute_result"
    }
   ],
   "source": [
    "right_glaucoma"
   ]
  },
  {
   "cell_type": "code",
   "execution_count": 7,
   "metadata": {},
   "outputs": [],
   "source": [
    "glaucoma = np.concatenate((left_glaucoma,right_glaucoma),axis=0)"
   ]
  },
  {
   "cell_type": "code",
   "execution_count": 8,
   "metadata": {},
   "outputs": [
    {
     "data": {
      "text/plain": [
       "309"
      ]
     },
     "execution_count": 8,
     "metadata": {},
     "output_type": "execute_result"
    }
   ],
   "source": [
    "len(glaucoma)"
   ]
  },
  {
   "cell_type": "code",
   "execution_count": 11,
   "metadata": {},
   "outputs": [],
   "source": [
    "import os"
   ]
  },
  {
   "cell_type": "code",
   "execution_count": 12,
   "metadata": {},
   "outputs": [],
   "source": [
    "dataset_dir=\"C:\\\\Users\\\\Rahul Mukthineni\\\\Desktop\\\\ocular_new\\\\preprocessed_images\""
   ]
  },
  {
   "cell_type": "code",
   "execution_count": 13,
   "metadata": {},
   "outputs": [],
   "source": [
    "glaucoma_dir=\"C:\\\\Users\\\\Rahul Mukthineni\\\\Desktop\\\\ocular_new\\\\images_data\\\\glaucoma\""
   ]
  },
  {
   "cell_type": "code",
   "execution_count": 15,
   "metadata": {},
   "outputs": [],
   "source": [
    "for img in glaucoma:\n",
    "        image_path = os.path.join(dataset_dir,img)\n",
    "        out_path = os.path.join(glaucoma_dir, img)\n",
    "        \n",
    "        try:\n",
    "            image = cv2.imread(image_path,cv2.IMREAD_COLOR)\n",
    "            cv2.imwrite(out_path, image)\n",
    "            \n",
    "        except:\n",
    "            \n",
    "            continue"
   ]
  },
  {
   "cell_type": "code",
   "execution_count": null,
   "metadata": {},
   "outputs": [],
   "source": []
  }
 ],
 "metadata": {
  "kernelspec": {
   "display_name": "Python 3",
   "language": "python",
   "name": "python3"
  },
  "language_info": {
   "codemirror_mode": {
    "name": "ipython",
    "version": 3
   },
   "file_extension": ".py",
   "mimetype": "text/x-python",
   "name": "python",
   "nbconvert_exporter": "python",
   "pygments_lexer": "ipython3",
   "version": "3.7.6"
  }
 },
 "nbformat": 4,
 "nbformat_minor": 4
}
