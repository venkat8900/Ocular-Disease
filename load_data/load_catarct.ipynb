{
 "cells": [
  {
   "cell_type": "code",
   "execution_count": 1,
   "metadata": {},
   "outputs": [
    {
     "name": "stderr",
     "output_type": "stream",
     "text": [
      "C:\\Users\\Rahul Mukthineni\\anaconda3\\lib\\site-packages\\tensorflow\\python\\framework\\dtypes.py:516: FutureWarning: Passing (type, 1) or '1type' as a synonym of type is deprecated; in a future version of numpy, it will be understood as (type, (1,)) / '(1,)type'.\n",
      "  _np_qint8 = np.dtype([(\"qint8\", np.int8, 1)])\n",
      "C:\\Users\\Rahul Mukthineni\\anaconda3\\lib\\site-packages\\tensorflow\\python\\framework\\dtypes.py:517: FutureWarning: Passing (type, 1) or '1type' as a synonym of type is deprecated; in a future version of numpy, it will be understood as (type, (1,)) / '(1,)type'.\n",
      "  _np_quint8 = np.dtype([(\"quint8\", np.uint8, 1)])\n",
      "C:\\Users\\Rahul Mukthineni\\anaconda3\\lib\\site-packages\\tensorflow\\python\\framework\\dtypes.py:518: FutureWarning: Passing (type, 1) or '1type' as a synonym of type is deprecated; in a future version of numpy, it will be understood as (type, (1,)) / '(1,)type'.\n",
      "  _np_qint16 = np.dtype([(\"qint16\", np.int16, 1)])\n",
      "C:\\Users\\Rahul Mukthineni\\anaconda3\\lib\\site-packages\\tensorflow\\python\\framework\\dtypes.py:519: FutureWarning: Passing (type, 1) or '1type' as a synonym of type is deprecated; in a future version of numpy, it will be understood as (type, (1,)) / '(1,)type'.\n",
      "  _np_quint16 = np.dtype([(\"quint16\", np.uint16, 1)])\n",
      "C:\\Users\\Rahul Mukthineni\\anaconda3\\lib\\site-packages\\tensorflow\\python\\framework\\dtypes.py:520: FutureWarning: Passing (type, 1) or '1type' as a synonym of type is deprecated; in a future version of numpy, it will be understood as (type, (1,)) / '(1,)type'.\n",
      "  _np_qint32 = np.dtype([(\"qint32\", np.int32, 1)])\n",
      "C:\\Users\\Rahul Mukthineni\\anaconda3\\lib\\site-packages\\tensorflow\\python\\framework\\dtypes.py:525: FutureWarning: Passing (type, 1) or '1type' as a synonym of type is deprecated; in a future version of numpy, it will be understood as (type, (1,)) / '(1,)type'.\n",
      "  np_resource = np.dtype([(\"resource\", np.ubyte, 1)])\n",
      "C:\\Users\\Rahul Mukthineni\\anaconda3\\lib\\site-packages\\tensorboard\\compat\\tensorflow_stub\\dtypes.py:541: FutureWarning: Passing (type, 1) or '1type' as a synonym of type is deprecated; in a future version of numpy, it will be understood as (type, (1,)) / '(1,)type'.\n",
      "  _np_qint8 = np.dtype([(\"qint8\", np.int8, 1)])\n",
      "C:\\Users\\Rahul Mukthineni\\anaconda3\\lib\\site-packages\\tensorboard\\compat\\tensorflow_stub\\dtypes.py:542: FutureWarning: Passing (type, 1) or '1type' as a synonym of type is deprecated; in a future version of numpy, it will be understood as (type, (1,)) / '(1,)type'.\n",
      "  _np_quint8 = np.dtype([(\"quint8\", np.uint8, 1)])\n",
      "C:\\Users\\Rahul Mukthineni\\anaconda3\\lib\\site-packages\\tensorboard\\compat\\tensorflow_stub\\dtypes.py:543: FutureWarning: Passing (type, 1) or '1type' as a synonym of type is deprecated; in a future version of numpy, it will be understood as (type, (1,)) / '(1,)type'.\n",
      "  _np_qint16 = np.dtype([(\"qint16\", np.int16, 1)])\n",
      "C:\\Users\\Rahul Mukthineni\\anaconda3\\lib\\site-packages\\tensorboard\\compat\\tensorflow_stub\\dtypes.py:544: FutureWarning: Passing (type, 1) or '1type' as a synonym of type is deprecated; in a future version of numpy, it will be understood as (type, (1,)) / '(1,)type'.\n",
      "  _np_quint16 = np.dtype([(\"quint16\", np.uint16, 1)])\n",
      "C:\\Users\\Rahul Mukthineni\\anaconda3\\lib\\site-packages\\tensorboard\\compat\\tensorflow_stub\\dtypes.py:545: FutureWarning: Passing (type, 1) or '1type' as a synonym of type is deprecated; in a future version of numpy, it will be understood as (type, (1,)) / '(1,)type'.\n",
      "  _np_qint32 = np.dtype([(\"qint32\", np.int32, 1)])\n",
      "C:\\Users\\Rahul Mukthineni\\anaconda3\\lib\\site-packages\\tensorboard\\compat\\tensorflow_stub\\dtypes.py:550: FutureWarning: Passing (type, 1) or '1type' as a synonym of type is deprecated; in a future version of numpy, it will be understood as (type, (1,)) / '(1,)type'.\n",
      "  np_resource = np.dtype([(\"resource\", np.ubyte, 1)])\n"
     ]
    }
   ],
   "source": [
    "import numpy as np # linear algebra\n",
    "import pandas as pd # data processing, CSV file I/O (e.g. pd.read_csv)\n",
    "import cv2\n",
    "import random\n",
    "from tqdm import tqdm\n",
    "import matplotlib.pyplot as plt\n",
    "from tensorflow.keras.preprocessing.image import ImageDataGenerator"
   ]
  },
  {
   "cell_type": "code",
   "execution_count": 2,
   "metadata": {},
   "outputs": [],
   "source": [
    "df=pd.read_csv(r\"C:\\Users\\Rahul Mukthineni\\Desktop\\opular.csv\")"
   ]
  },
  {
   "cell_type": "code",
   "execution_count": 3,
   "metadata": {},
   "outputs": [],
   "source": [
    "def has_cataract(text):\n",
    "    if \"cataract\" in text:\n",
    "        return 1\n",
    "    else:\n",
    "        return 0"
   ]
  },
  {
   "cell_type": "code",
   "execution_count": 4,
   "metadata": {},
   "outputs": [],
   "source": [
    "df[\"left_cataract\"] = df[\"Left-Diagnostic Keywords\"].apply(lambda x: has_cataract(x))\n",
    "df[\"right_cataract\"] = df[\"Right-Diagnostic Keywords\"].apply(lambda x: has_cataract(x))"
   ]
  },
  {
   "cell_type": "code",
   "execution_count": 5,
   "metadata": {},
   "outputs": [],
   "source": [
    "left_cataract = df.loc[(df.C ==1) & (df.left_cataract == 1)][\"Left-Fundus\"].values"
   ]
  },
  {
   "cell_type": "code",
   "execution_count": 6,
   "metadata": {},
   "outputs": [
    {
     "data": {
      "text/plain": [
       "array(['0_left.jpg', '81_left.jpg', '103_left.jpg', '119_left.jpg',\n",
       "       '254_left.jpg', '294_left.jpg', '330_left.jpg', '448_left.jpg',\n",
       "       '465_left.jpg', '477_left.jpg', '553_left.jpg', '560_left.jpg',\n",
       "       '594_left.jpg', '611_left.jpg', '625_left.jpg', '629_left.jpg',\n",
       "       '691_left.jpg', '726_left.jpg', '750_left.jpg', '809_left.jpg',\n",
       "       '820_left.jpg', '824_left.jpg', '874_left.jpg', '907_left.jpg',\n",
       "       '970_left.jpg', '999_left.jpg', '1083_left.jpg', '1102_left.jpg',\n",
       "       '1115_left.jpg', '1144_left.jpg', '1164_left.jpg', '1285_left.jpg',\n",
       "       '1415_left.jpg', '1435_left.jpg', '1444_left.jpg', '1452_left.jpg',\n",
       "       '1468_left.jpg', '1483_left.jpg', '1484_left.jpg', '1987_left.jpg',\n",
       "       '1994_left.jpg', '2052_left.jpg', '2098_left.jpg', '2099_left.jpg',\n",
       "       '2101_left.jpg', '2102_left.jpg', '2103_left.jpg', '2104_left.jpg',\n",
       "       '2105_left.jpg', '2108_left.jpg', '2109_left.jpg', '2110_left.jpg',\n",
       "       '2111_left.jpg', '2113_left.jpg', '2114_left.jpg', '2116_left.jpg',\n",
       "       '2117_left.jpg', '2120_left.jpg', '2121_left.jpg', '2122_left.jpg',\n",
       "       '2123_left.jpg', '2124_left.jpg', '2125_left.jpg', '2126_left.jpg',\n",
       "       '2127_left.jpg', '2128_left.jpg', '2129_left.jpg', '2130_left.jpg',\n",
       "       '2132_left.jpg', '2133_left.jpg', '2134_left.jpg', '2135_left.jpg',\n",
       "       '2136_left.jpg', '2137_left.jpg', '2138_left.jpg', '2140_left.jpg',\n",
       "       '2142_left.jpg', '2144_left.jpg', '2145_left.jpg', '2146_left.jpg',\n",
       "       '2147_left.jpg', '2150_left.jpg', '2151_left.jpg', '2152_left.jpg',\n",
       "       '2153_left.jpg', '2154_left.jpg', '2155_left.jpg', '2156_left.jpg',\n",
       "       '2157_left.jpg', '2158_left.jpg', '2163_left.jpg', '2164_left.jpg',\n",
       "       '2166_left.jpg', '2167_left.jpg', '2168_left.jpg', '2169_left.jpg',\n",
       "       '2170_left.jpg', '2171_left.jpg', '2172_left.jpg', '2175_left.jpg',\n",
       "       '2176_left.jpg', '2178_left.jpg', '2179_left.jpg', '2180_left.jpg',\n",
       "       '2181_left.jpg', '2182_left.jpg', '2183_left.jpg', '2184_left.jpg',\n",
       "       '2185_left.jpg', '2189_left.jpg', '2192_left.jpg', '2194_left.jpg',\n",
       "       '2195_left.jpg', '2198_left.jpg', '2199_left.jpg', '2200_left.jpg',\n",
       "       '2203_left.jpg', '2204_left.jpg', '2206_left.jpg', '2207_left.jpg',\n",
       "       '2209_left.jpg', '2210_left.jpg', '2211_left.jpg', '2212_left.jpg',\n",
       "       '2213_left.jpg', '2215_left.jpg', '2216_left.jpg', '2217_left.jpg',\n",
       "       '2219_left.jpg', '2221_left.jpg', '2222_left.jpg', '2223_left.jpg',\n",
       "       '2225_left.jpg', '2226_left.jpg', '2227_left.jpg', '2231_left.jpg',\n",
       "       '2232_left.jpg', '2233_left.jpg', '2234_left.jpg', '2235_left.jpg',\n",
       "       '2236_left.jpg', '2239_left.jpg', '2240_left.jpg', '2242_left.jpg',\n",
       "       '2243_left.jpg', '2244_left.jpg', '2246_left.jpg', '2247_left.jpg',\n",
       "       '2248_left.jpg', '2251_left.jpg', '2262_left.jpg'], dtype=object)"
      ]
     },
     "execution_count": 6,
     "metadata": {},
     "output_type": "execute_result"
    }
   ],
   "source": [
    "left_cataract"
   ]
  },
  {
   "cell_type": "code",
   "execution_count": 7,
   "metadata": {},
   "outputs": [],
   "source": [
    "right_cataract = df.loc[(df.C ==1) & (df.right_cataract == 1)][\"Right-Fundus\"].values"
   ]
  },
  {
   "cell_type": "code",
   "execution_count": 8,
   "metadata": {},
   "outputs": [
    {
     "data": {
      "text/plain": [
       "array(['24_right.jpg', '81_right.jpg', '112_right.jpg', '188_right.jpg',\n",
       "       '218_right.jpg', '345_right.jpg', '354_right.jpg', '477_right.jpg',\n",
       "       '553_right.jpg', '560_right.jpg', '625_right.jpg', '726_right.jpg',\n",
       "       '769_right.jpg', '949_right.jpg', '955_right.jpg', '970_right.jpg',\n",
       "       '999_right.jpg', '1062_right.jpg', '1084_right.jpg',\n",
       "       '1102_right.jpg', '1126_right.jpg', '1144_right.jpg',\n",
       "       '1167_right.jpg', '1415_right.jpg', '1454_right.jpg',\n",
       "       '1460_right.jpg', '1483_right.jpg', '1484_right.jpg',\n",
       "       '1490_right.jpg', '2052_right.jpg', '2074_right.jpg',\n",
       "       '2095_right.jpg', '2096_right.jpg', '2097_right.jpg',\n",
       "       '2098_right.jpg', '2100_right.jpg', '2101_right.jpg',\n",
       "       '2102_right.jpg', '2103_right.jpg', '2104_right.jpg',\n",
       "       '2105_right.jpg', '2106_right.jpg', '2108_right.jpg',\n",
       "       '2109_right.jpg', '2110_right.jpg', '2112_right.jpg',\n",
       "       '2113_right.jpg', '2114_right.jpg', '2115_right.jpg',\n",
       "       '2116_right.jpg', '2118_right.jpg', '2119_right.jpg',\n",
       "       '2120_right.jpg', '2122_right.jpg', '2126_right.jpg',\n",
       "       '2127_right.jpg', '2128_right.jpg', '2129_right.jpg',\n",
       "       '2130_right.jpg', '2133_right.jpg', '2134_right.jpg',\n",
       "       '2135_right.jpg', '2137_right.jpg', '2138_right.jpg',\n",
       "       '2139_right.jpg', '2140_right.jpg', '2141_right.jpg',\n",
       "       '2142_right.jpg', '2143_right.jpg', '2144_right.jpg',\n",
       "       '2146_right.jpg', '2149_right.jpg', '2150_right.jpg',\n",
       "       '2151_right.jpg', '2153_right.jpg', '2155_right.jpg',\n",
       "       '2157_right.jpg', '2158_right.jpg', '2160_right.jpg',\n",
       "       '2161_right.jpg', '2162_right.jpg', '2163_right.jpg',\n",
       "       '2164_right.jpg', '2165_right.jpg', '2167_right.jpg',\n",
       "       '2168_right.jpg', '2169_right.jpg', '2170_right.jpg',\n",
       "       '2173_right.jpg', '2174_right.jpg', '2176_right.jpg',\n",
       "       '2177_right.jpg', '2178_right.jpg', '2179_right.jpg',\n",
       "       '2180_right.jpg', '2181_right.jpg', '2182_right.jpg',\n",
       "       '2183_right.jpg', '2184_right.jpg', '2187_right.jpg',\n",
       "       '2189_right.jpg', '2190_right.jpg', '2191_right.jpg',\n",
       "       '2192_right.jpg', '2193_right.jpg', '2194_right.jpg',\n",
       "       '2195_right.jpg', '2196_right.jpg', '2197_right.jpg',\n",
       "       '2198_right.jpg', '2201_right.jpg', '2203_right.jpg',\n",
       "       '2205_right.jpg', '2206_right.jpg', '2207_right.jpg',\n",
       "       '2208_right.jpg', '2209_right.jpg', '2210_right.jpg',\n",
       "       '2211_right.jpg', '2212_right.jpg', '2213_right.jpg',\n",
       "       '2216_right.jpg', '2217_right.jpg', '2218_right.jpg',\n",
       "       '2219_right.jpg', '2220_right.jpg', '2221_right.jpg',\n",
       "       '2223_right.jpg', '2225_right.jpg', '2226_right.jpg',\n",
       "       '2227_right.jpg', '2228_right.jpg', '2231_right.jpg',\n",
       "       '2232_right.jpg', '2233_right.jpg', '2234_right.jpg',\n",
       "       '2236_right.jpg', '2237_right.jpg', '2239_right.jpg',\n",
       "       '2240_right.jpg', '2242_right.jpg', '2243_right.jpg',\n",
       "       '2244_right.jpg', '2246_right.jpg', '2247_right.jpg',\n",
       "       '2248_right.jpg', '2251_right.jpg', '2282_right.jpg'], dtype=object)"
      ]
     },
     "execution_count": 8,
     "metadata": {},
     "output_type": "execute_result"
    }
   ],
   "source": [
    "right_cataract"
   ]
  },
  {
   "cell_type": "code",
   "execution_count": 9,
   "metadata": {},
   "outputs": [],
   "source": [
    "cataract = np.concatenate((left_cataract,right_cataract),axis=0)"
   ]
  },
  {
   "cell_type": "code",
   "execution_count": 10,
   "metadata": {},
   "outputs": [
    {
     "data": {
      "text/plain": [
       "array(['0_left.jpg', '81_left.jpg', '103_left.jpg', '119_left.jpg',\n",
       "       '254_left.jpg', '294_left.jpg', '330_left.jpg', '448_left.jpg',\n",
       "       '465_left.jpg', '477_left.jpg', '553_left.jpg', '560_left.jpg',\n",
       "       '594_left.jpg', '611_left.jpg', '625_left.jpg', '629_left.jpg',\n",
       "       '691_left.jpg', '726_left.jpg', '750_left.jpg', '809_left.jpg',\n",
       "       '820_left.jpg', '824_left.jpg', '874_left.jpg', '907_left.jpg',\n",
       "       '970_left.jpg', '999_left.jpg', '1083_left.jpg', '1102_left.jpg',\n",
       "       '1115_left.jpg', '1144_left.jpg', '1164_left.jpg', '1285_left.jpg',\n",
       "       '1415_left.jpg', '1435_left.jpg', '1444_left.jpg', '1452_left.jpg',\n",
       "       '1468_left.jpg', '1483_left.jpg', '1484_left.jpg', '1987_left.jpg',\n",
       "       '1994_left.jpg', '2052_left.jpg', '2098_left.jpg', '2099_left.jpg',\n",
       "       '2101_left.jpg', '2102_left.jpg', '2103_left.jpg', '2104_left.jpg',\n",
       "       '2105_left.jpg', '2108_left.jpg', '2109_left.jpg', '2110_left.jpg',\n",
       "       '2111_left.jpg', '2113_left.jpg', '2114_left.jpg', '2116_left.jpg',\n",
       "       '2117_left.jpg', '2120_left.jpg', '2121_left.jpg', '2122_left.jpg',\n",
       "       '2123_left.jpg', '2124_left.jpg', '2125_left.jpg', '2126_left.jpg',\n",
       "       '2127_left.jpg', '2128_left.jpg', '2129_left.jpg', '2130_left.jpg',\n",
       "       '2132_left.jpg', '2133_left.jpg', '2134_left.jpg', '2135_left.jpg',\n",
       "       '2136_left.jpg', '2137_left.jpg', '2138_left.jpg', '2140_left.jpg',\n",
       "       '2142_left.jpg', '2144_left.jpg', '2145_left.jpg', '2146_left.jpg',\n",
       "       '2147_left.jpg', '2150_left.jpg', '2151_left.jpg', '2152_left.jpg',\n",
       "       '2153_left.jpg', '2154_left.jpg', '2155_left.jpg', '2156_left.jpg',\n",
       "       '2157_left.jpg', '2158_left.jpg', '2163_left.jpg', '2164_left.jpg',\n",
       "       '2166_left.jpg', '2167_left.jpg', '2168_left.jpg', '2169_left.jpg',\n",
       "       '2170_left.jpg', '2171_left.jpg', '2172_left.jpg', '2175_left.jpg',\n",
       "       '2176_left.jpg', '2178_left.jpg', '2179_left.jpg', '2180_left.jpg',\n",
       "       '2181_left.jpg', '2182_left.jpg', '2183_left.jpg', '2184_left.jpg',\n",
       "       '2185_left.jpg', '2189_left.jpg', '2192_left.jpg', '2194_left.jpg',\n",
       "       '2195_left.jpg', '2198_left.jpg', '2199_left.jpg', '2200_left.jpg',\n",
       "       '2203_left.jpg', '2204_left.jpg', '2206_left.jpg', '2207_left.jpg',\n",
       "       '2209_left.jpg', '2210_left.jpg', '2211_left.jpg', '2212_left.jpg',\n",
       "       '2213_left.jpg', '2215_left.jpg', '2216_left.jpg', '2217_left.jpg',\n",
       "       '2219_left.jpg', '2221_left.jpg', '2222_left.jpg', '2223_left.jpg',\n",
       "       '2225_left.jpg', '2226_left.jpg', '2227_left.jpg', '2231_left.jpg',\n",
       "       '2232_left.jpg', '2233_left.jpg', '2234_left.jpg', '2235_left.jpg',\n",
       "       '2236_left.jpg', '2239_left.jpg', '2240_left.jpg', '2242_left.jpg',\n",
       "       '2243_left.jpg', '2244_left.jpg', '2246_left.jpg', '2247_left.jpg',\n",
       "       '2248_left.jpg', '2251_left.jpg', '2262_left.jpg', '24_right.jpg',\n",
       "       '81_right.jpg', '112_right.jpg', '188_right.jpg', '218_right.jpg',\n",
       "       '345_right.jpg', '354_right.jpg', '477_right.jpg', '553_right.jpg',\n",
       "       '560_right.jpg', '625_right.jpg', '726_right.jpg', '769_right.jpg',\n",
       "       '949_right.jpg', '955_right.jpg', '970_right.jpg', '999_right.jpg',\n",
       "       '1062_right.jpg', '1084_right.jpg', '1102_right.jpg',\n",
       "       '1126_right.jpg', '1144_right.jpg', '1167_right.jpg',\n",
       "       '1415_right.jpg', '1454_right.jpg', '1460_right.jpg',\n",
       "       '1483_right.jpg', '1484_right.jpg', '1490_right.jpg',\n",
       "       '2052_right.jpg', '2074_right.jpg', '2095_right.jpg',\n",
       "       '2096_right.jpg', '2097_right.jpg', '2098_right.jpg',\n",
       "       '2100_right.jpg', '2101_right.jpg', '2102_right.jpg',\n",
       "       '2103_right.jpg', '2104_right.jpg', '2105_right.jpg',\n",
       "       '2106_right.jpg', '2108_right.jpg', '2109_right.jpg',\n",
       "       '2110_right.jpg', '2112_right.jpg', '2113_right.jpg',\n",
       "       '2114_right.jpg', '2115_right.jpg', '2116_right.jpg',\n",
       "       '2118_right.jpg', '2119_right.jpg', '2120_right.jpg',\n",
       "       '2122_right.jpg', '2126_right.jpg', '2127_right.jpg',\n",
       "       '2128_right.jpg', '2129_right.jpg', '2130_right.jpg',\n",
       "       '2133_right.jpg', '2134_right.jpg', '2135_right.jpg',\n",
       "       '2137_right.jpg', '2138_right.jpg', '2139_right.jpg',\n",
       "       '2140_right.jpg', '2141_right.jpg', '2142_right.jpg',\n",
       "       '2143_right.jpg', '2144_right.jpg', '2146_right.jpg',\n",
       "       '2149_right.jpg', '2150_right.jpg', '2151_right.jpg',\n",
       "       '2153_right.jpg', '2155_right.jpg', '2157_right.jpg',\n",
       "       '2158_right.jpg', '2160_right.jpg', '2161_right.jpg',\n",
       "       '2162_right.jpg', '2163_right.jpg', '2164_right.jpg',\n",
       "       '2165_right.jpg', '2167_right.jpg', '2168_right.jpg',\n",
       "       '2169_right.jpg', '2170_right.jpg', '2173_right.jpg',\n",
       "       '2174_right.jpg', '2176_right.jpg', '2177_right.jpg',\n",
       "       '2178_right.jpg', '2179_right.jpg', '2180_right.jpg',\n",
       "       '2181_right.jpg', '2182_right.jpg', '2183_right.jpg',\n",
       "       '2184_right.jpg', '2187_right.jpg', '2189_right.jpg',\n",
       "       '2190_right.jpg', '2191_right.jpg', '2192_right.jpg',\n",
       "       '2193_right.jpg', '2194_right.jpg', '2195_right.jpg',\n",
       "       '2196_right.jpg', '2197_right.jpg', '2198_right.jpg',\n",
       "       '2201_right.jpg', '2203_right.jpg', '2205_right.jpg',\n",
       "       '2206_right.jpg', '2207_right.jpg', '2208_right.jpg',\n",
       "       '2209_right.jpg', '2210_right.jpg', '2211_right.jpg',\n",
       "       '2212_right.jpg', '2213_right.jpg', '2216_right.jpg',\n",
       "       '2217_right.jpg', '2218_right.jpg', '2219_right.jpg',\n",
       "       '2220_right.jpg', '2221_right.jpg', '2223_right.jpg',\n",
       "       '2225_right.jpg', '2226_right.jpg', '2227_right.jpg',\n",
       "       '2228_right.jpg', '2231_right.jpg', '2232_right.jpg',\n",
       "       '2233_right.jpg', '2234_right.jpg', '2236_right.jpg',\n",
       "       '2237_right.jpg', '2239_right.jpg', '2240_right.jpg',\n",
       "       '2242_right.jpg', '2243_right.jpg', '2244_right.jpg',\n",
       "       '2246_right.jpg', '2247_right.jpg', '2248_right.jpg',\n",
       "       '2251_right.jpg', '2282_right.jpg'], dtype=object)"
      ]
     },
     "execution_count": 10,
     "metadata": {},
     "output_type": "execute_result"
    }
   ],
   "source": [
    "cataract"
   ]
  },
  {
   "cell_type": "code",
   "execution_count": 11,
   "metadata": {},
   "outputs": [
    {
     "data": {
      "text/plain": [
       "299"
      ]
     },
     "execution_count": 11,
     "metadata": {},
     "output_type": "execute_result"
    }
   ],
   "source": [
    "len(cataract)"
   ]
  },
  {
   "cell_type": "code",
   "execution_count": 24,
   "metadata": {},
   "outputs": [],
   "source": [
    "dataset_dir=\"C:\\\\Users\\\\Rahul Mukthineni\\\\Desktop\\\\ocular_new\\\\preprocessed_images\""
   ]
  },
  {
   "cell_type": "code",
   "execution_count": 25,
   "metadata": {},
   "outputs": [],
   "source": [
    "cataract_dir=\"C:\\\\Users\\\\Rahul Mukthineni\\\\Desktop\\\\ocular_new\\\\images_data\\\\cataract\""
   ]
  },
  {
   "cell_type": "code",
   "execution_count": 26,
   "metadata": {},
   "outputs": [],
   "source": [
    "import os"
   ]
  },
  {
   "cell_type": "code",
   "execution_count": 28,
   "metadata": {},
   "outputs": [],
   "source": [
    "for img in cataract:\n",
    "        image_path = os.path.join(dataset_dir,img)\n",
    "        out_path = os.path.join(cataract_dir, img)\n",
    "        \n",
    "        try:\n",
    "            image = cv2.imread(image_path,cv2.IMREAD_COLOR)\n",
    "            cv2.imwrite(out_path, image)\n",
    "            \n",
    "        except:\n",
    "            \n",
    "            continue"
   ]
  },
  {
   "cell_type": "code",
   "execution_count": null,
   "metadata": {},
   "outputs": [],
   "source": []
  }
 ],
 "metadata": {
  "kernelspec": {
   "display_name": "Python 3",
   "language": "python",
   "name": "python3"
  },
  "language_info": {
   "codemirror_mode": {
    "name": "ipython",
    "version": 3
   },
   "file_extension": ".py",
   "mimetype": "text/x-python",
   "name": "python",
   "nbconvert_exporter": "python",
   "pygments_lexer": "ipython3",
   "version": "3.7.6"
  }
 },
 "nbformat": 4,
 "nbformat_minor": 4
}
