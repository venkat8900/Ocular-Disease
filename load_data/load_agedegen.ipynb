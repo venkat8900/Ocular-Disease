{
 "cells": [
  {
   "cell_type": "code",
   "execution_count": 1,
   "metadata": {},
   "outputs": [
    {
     "name": "stderr",
     "output_type": "stream",
     "text": [
      "C:\\Users\\Rahul Mukthineni\\anaconda3\\lib\\site-packages\\tensorflow\\python\\framework\\dtypes.py:516: FutureWarning: Passing (type, 1) or '1type' as a synonym of type is deprecated; in a future version of numpy, it will be understood as (type, (1,)) / '(1,)type'.\n",
      "  _np_qint8 = np.dtype([(\"qint8\", np.int8, 1)])\n",
      "C:\\Users\\Rahul Mukthineni\\anaconda3\\lib\\site-packages\\tensorflow\\python\\framework\\dtypes.py:517: FutureWarning: Passing (type, 1) or '1type' as a synonym of type is deprecated; in a future version of numpy, it will be understood as (type, (1,)) / '(1,)type'.\n",
      "  _np_quint8 = np.dtype([(\"quint8\", np.uint8, 1)])\n",
      "C:\\Users\\Rahul Mukthineni\\anaconda3\\lib\\site-packages\\tensorflow\\python\\framework\\dtypes.py:518: FutureWarning: Passing (type, 1) or '1type' as a synonym of type is deprecated; in a future version of numpy, it will be understood as (type, (1,)) / '(1,)type'.\n",
      "  _np_qint16 = np.dtype([(\"qint16\", np.int16, 1)])\n",
      "C:\\Users\\Rahul Mukthineni\\anaconda3\\lib\\site-packages\\tensorflow\\python\\framework\\dtypes.py:519: FutureWarning: Passing (type, 1) or '1type' as a synonym of type is deprecated; in a future version of numpy, it will be understood as (type, (1,)) / '(1,)type'.\n",
      "  _np_quint16 = np.dtype([(\"quint16\", np.uint16, 1)])\n",
      "C:\\Users\\Rahul Mukthineni\\anaconda3\\lib\\site-packages\\tensorflow\\python\\framework\\dtypes.py:520: FutureWarning: Passing (type, 1) or '1type' as a synonym of type is deprecated; in a future version of numpy, it will be understood as (type, (1,)) / '(1,)type'.\n",
      "  _np_qint32 = np.dtype([(\"qint32\", np.int32, 1)])\n",
      "C:\\Users\\Rahul Mukthineni\\anaconda3\\lib\\site-packages\\tensorflow\\python\\framework\\dtypes.py:525: FutureWarning: Passing (type, 1) or '1type' as a synonym of type is deprecated; in a future version of numpy, it will be understood as (type, (1,)) / '(1,)type'.\n",
      "  np_resource = np.dtype([(\"resource\", np.ubyte, 1)])\n",
      "C:\\Users\\Rahul Mukthineni\\anaconda3\\lib\\site-packages\\tensorboard\\compat\\tensorflow_stub\\dtypes.py:541: FutureWarning: Passing (type, 1) or '1type' as a synonym of type is deprecated; in a future version of numpy, it will be understood as (type, (1,)) / '(1,)type'.\n",
      "  _np_qint8 = np.dtype([(\"qint8\", np.int8, 1)])\n",
      "C:\\Users\\Rahul Mukthineni\\anaconda3\\lib\\site-packages\\tensorboard\\compat\\tensorflow_stub\\dtypes.py:542: FutureWarning: Passing (type, 1) or '1type' as a synonym of type is deprecated; in a future version of numpy, it will be understood as (type, (1,)) / '(1,)type'.\n",
      "  _np_quint8 = np.dtype([(\"quint8\", np.uint8, 1)])\n",
      "C:\\Users\\Rahul Mukthineni\\anaconda3\\lib\\site-packages\\tensorboard\\compat\\tensorflow_stub\\dtypes.py:543: FutureWarning: Passing (type, 1) or '1type' as a synonym of type is deprecated; in a future version of numpy, it will be understood as (type, (1,)) / '(1,)type'.\n",
      "  _np_qint16 = np.dtype([(\"qint16\", np.int16, 1)])\n",
      "C:\\Users\\Rahul Mukthineni\\anaconda3\\lib\\site-packages\\tensorboard\\compat\\tensorflow_stub\\dtypes.py:544: FutureWarning: Passing (type, 1) or '1type' as a synonym of type is deprecated; in a future version of numpy, it will be understood as (type, (1,)) / '(1,)type'.\n",
      "  _np_quint16 = np.dtype([(\"quint16\", np.uint16, 1)])\n",
      "C:\\Users\\Rahul Mukthineni\\anaconda3\\lib\\site-packages\\tensorboard\\compat\\tensorflow_stub\\dtypes.py:545: FutureWarning: Passing (type, 1) or '1type' as a synonym of type is deprecated; in a future version of numpy, it will be understood as (type, (1,)) / '(1,)type'.\n",
      "  _np_qint32 = np.dtype([(\"qint32\", np.int32, 1)])\n",
      "C:\\Users\\Rahul Mukthineni\\anaconda3\\lib\\site-packages\\tensorboard\\compat\\tensorflow_stub\\dtypes.py:550: FutureWarning: Passing (type, 1) or '1type' as a synonym of type is deprecated; in a future version of numpy, it will be understood as (type, (1,)) / '(1,)type'.\n",
      "  np_resource = np.dtype([(\"resource\", np.ubyte, 1)])\n"
     ]
    }
   ],
   "source": [
    "import numpy as np # linear algebra\n",
    "import pandas as pd # data processing, CSV file I/O (e.g. pd.read_csv)\n",
    "import cv2\n",
    "import random\n",
    "from tqdm import tqdm\n",
    "import matplotlib.pyplot as plt\n",
    "from tensorflow.keras.preprocessing.image import ImageDataGenerator"
   ]
  },
  {
   "cell_type": "code",
   "execution_count": 2,
   "metadata": {},
   "outputs": [],
   "source": [
    "df=pd.read_csv(r\"C:\\Users\\Rahul Mukthineni\\Desktop\\opular.csv\")"
   ]
  },
  {
   "cell_type": "code",
   "execution_count": 3,
   "metadata": {},
   "outputs": [],
   "source": [
    "def has_agedegen(text):\n",
    "    if \"degeneration\" in text:\n",
    "        return 1\n",
    "    else:\n",
    "        return 0"
   ]
  },
  {
   "cell_type": "code",
   "execution_count": 4,
   "metadata": {},
   "outputs": [],
   "source": [
    "df[\"left_agedegen\"] = df[\"Left-Diagnostic Keywords\"].apply(lambda x: has_agedegen(x))\n",
    "df[\"right_agedegen\"] = df[\"Right-Diagnostic Keywords\"].apply(lambda x: has_agedegen(x))"
   ]
  },
  {
   "cell_type": "code",
   "execution_count": 5,
   "metadata": {},
   "outputs": [],
   "source": [
    "left_agedegen = df.loc[(df.A ==1) & (df.left_agedegen == 1)][\"Left-Fundus\"].values"
   ]
  },
  {
   "cell_type": "code",
   "execution_count": 6,
   "metadata": {},
   "outputs": [],
   "source": [
    "right_agedegen = df.loc[(df.A ==1) & (df.right_agedegen == 1)][\"Right-Fundus\"].values"
   ]
  },
  {
   "cell_type": "code",
   "execution_count": 7,
   "metadata": {},
   "outputs": [
    {
     "data": {
      "text/plain": [
       "array(['43_left.jpg', '48_left.jpg', '53_left.jpg', '55_left.jpg',\n",
       "       '102_left.jpg', '126_left.jpg', '136_left.jpg', '152_left.jpg',\n",
       "       '158_left.jpg', '162_left.jpg', '164_left.jpg', '168_left.jpg',\n",
       "       '178_left.jpg', '210_left.jpg', '212_left.jpg', '230_left.jpg',\n",
       "       '235_left.jpg', '238_left.jpg', '243_left.jpg', '247_left.jpg',\n",
       "       '260_left.jpg', '264_left.jpg', '265_left.jpg', '266_left.jpg',\n",
       "       '270_left.jpg', '292_left.jpg', '319_left.jpg', '321_left.jpg',\n",
       "       '334_left.jpg', '359_left.jpg', '377_left.jpg', '410_left.jpg',\n",
       "       '419_left.jpg', '424_left.jpg', '447_left.jpg', '455_left.jpg',\n",
       "       '464_left.jpg', '514_left.jpg', '532_left.jpg', '547_left.jpg',\n",
       "       '564_left.jpg', '565_left.jpg', '572_left.jpg', '603_left.jpg',\n",
       "       '608_left.jpg', '614_left.jpg', '615_left.jpg', '638_left.jpg',\n",
       "       '681_left.jpg', '712_left.jpg', '719_left.jpg', '761_left.jpg',\n",
       "       '775_left.jpg', '788_left.jpg', '815_left.jpg', '821_left.jpg',\n",
       "       '847_left.jpg', '852_left.jpg', '855_left.jpg', '870_left.jpg',\n",
       "       '888_left.jpg', '889_left.jpg', '910_left.jpg', '927_left.jpg',\n",
       "       '938_left.jpg', '961_left.jpg', '971_left.jpg', '977_left.jpg',\n",
       "       '978_left.jpg', '992_left.jpg', '998_left.jpg', '1043_left.jpg',\n",
       "       '1064_left.jpg', '1075_left.jpg', '1085_left.jpg', '1091_left.jpg',\n",
       "       '1098_left.jpg', '1104_left.jpg', '1111_left.jpg', '1125_left.jpg',\n",
       "       '1154_left.jpg', '1191_left.jpg', '1196_left.jpg', '1197_left.jpg',\n",
       "       '1202_left.jpg', '1280_left.jpg', '1295_left.jpg', '1314_left.jpg',\n",
       "       '1458_left.jpg', '1817_left.jpg', '1819_left.jpg', '1820_left.jpg',\n",
       "       '1829_left.jpg', '1830_left.jpg', '1831_left.jpg', '1834_left.jpg',\n",
       "       '1835_left.jpg', '1836_left.jpg', '1840_left.jpg', '1841_left.jpg',\n",
       "       '1843_left.jpg', '1844_left.jpg', '1845_left.jpg', '1846_left.jpg',\n",
       "       '1847_left.jpg', '1850_left.jpg', '1854_left.jpg', '1856_left.jpg',\n",
       "       '1857_left.jpg', '1859_left.jpg', '1862_left.jpg', '1869_left.jpg',\n",
       "       '1872_left.jpg', '1874_left.jpg', '1877_left.jpg', '1878_left.jpg',\n",
       "       '1879_left.jpg', '1880_left.jpg', '1881_left.jpg', '1885_left.jpg',\n",
       "       '1886_left.jpg', '1889_left.jpg', '1890_left.jpg', '1892_left.jpg',\n",
       "       '1893_left.jpg', '1942_left.jpg', '2034_left.jpg', '2065_left.jpg',\n",
       "       '2078_left.jpg', '3979_left.jpg', '4784_left.jpg'], dtype=object)"
      ]
     },
     "execution_count": 7,
     "metadata": {},
     "output_type": "execute_result"
    }
   ],
   "source": [
    "left_agedegen"
   ]
  },
  {
   "cell_type": "code",
   "execution_count": 8,
   "metadata": {},
   "outputs": [
    {
     "data": {
      "text/plain": [
       "array(['43_right.jpg', '48_right.jpg', '53_right.jpg', '55_right.jpg',\n",
       "       '71_right.jpg', '102_right.jpg', '126_right.jpg', '152_right.jpg',\n",
       "       '153_right.jpg', '158_right.jpg', '160_right.jpg', '162_right.jpg',\n",
       "       '164_right.jpg', '168_right.jpg', '178_right.jpg', '210_right.jpg',\n",
       "       '212_right.jpg', '213_right.jpg', '230_right.jpg', '235_right.jpg',\n",
       "       '238_right.jpg', '243_right.jpg', '247_right.jpg', '260_right.jpg',\n",
       "       '265_right.jpg', '266_right.jpg', '270_right.jpg', '292_right.jpg',\n",
       "       '311_right.jpg', '315_right.jpg', '319_right.jpg', '321_right.jpg',\n",
       "       '334_right.jpg', '359_right.jpg', '377_right.jpg', '410_right.jpg',\n",
       "       '419_right.jpg', '424_right.jpg', '447_right.jpg', '455_right.jpg',\n",
       "       '513_right.jpg', '514_right.jpg', '532_right.jpg', '540_right.jpg',\n",
       "       '547_right.jpg', '564_right.jpg', '565_right.jpg', '572_right.jpg',\n",
       "       '603_right.jpg', '608_right.jpg', '610_right.jpg', '615_right.jpg',\n",
       "       '662_right.jpg', '681_right.jpg', '719_right.jpg', '761_right.jpg',\n",
       "       '775_right.jpg', '788_right.jpg', '808_right.jpg', '815_right.jpg',\n",
       "       '821_right.jpg', '847_right.jpg', '852_right.jpg', '855_right.jpg',\n",
       "       '870_right.jpg', '885_right.jpg', '886_right.jpg', '888_right.jpg',\n",
       "       '889_right.jpg', '910_right.jpg', '927_right.jpg', '934_right.jpg',\n",
       "       '938_right.jpg', '961_right.jpg', '971_right.jpg', '992_right.jpg',\n",
       "       '998_right.jpg', '1043_right.jpg', '1064_right.jpg',\n",
       "       '1085_right.jpg', '1091_right.jpg', '1098_right.jpg',\n",
       "       '1104_right.jpg', '1111_right.jpg', '1125_right.jpg',\n",
       "       '1154_right.jpg', '1168_right.jpg', '1196_right.jpg',\n",
       "       '1197_right.jpg', '1202_right.jpg', '1243_right.jpg',\n",
       "       '1295_right.jpg', '1314_right.jpg', '1458_right.jpg',\n",
       "       '1799_right.jpg', '1801_right.jpg', '1817_right.jpg',\n",
       "       '1819_right.jpg', '1820_right.jpg', '1829_right.jpg',\n",
       "       '1830_right.jpg', '1831_right.jpg', '1834_right.jpg',\n",
       "       '1835_right.jpg', '1836_right.jpg', '1837_right.jpg',\n",
       "       '1840_right.jpg', '1841_right.jpg', '1843_right.jpg',\n",
       "       '1844_right.jpg', '1845_right.jpg', '1846_right.jpg',\n",
       "       '1847_right.jpg', '1850_right.jpg', '1853_right.jpg',\n",
       "       '1854_right.jpg', '1856_right.jpg', '1857_right.jpg',\n",
       "       '1859_right.jpg', '1862_right.jpg', '1868_right.jpg',\n",
       "       '1869_right.jpg', '1872_right.jpg', '1873_right.jpg',\n",
       "       '1874_right.jpg', '1876_right.jpg', '1877_right.jpg',\n",
       "       '1878_right.jpg', '1879_right.jpg', '1880_right.jpg',\n",
       "       '1881_right.jpg', '1884_right.jpg', '1885_right.jpg',\n",
       "       '1886_right.jpg', '1889_right.jpg', '1891_right.jpg',\n",
       "       '1892_right.jpg', '1893_right.jpg', '1919_right.jpg',\n",
       "       '1942_right.jpg', '3979_right.jpg', '4068_right.jpg',\n",
       "       '4330_right.jpg', '4784_right.jpg'], dtype=object)"
      ]
     },
     "execution_count": 8,
     "metadata": {},
     "output_type": "execute_result"
    }
   ],
   "source": [
    "right_agedegen"
   ]
  },
  {
   "cell_type": "code",
   "execution_count": 9,
   "metadata": {},
   "outputs": [],
   "source": [
    "agedegen = np.concatenate((left_agedegen,right_agedegen),axis=0)"
   ]
  },
  {
   "cell_type": "code",
   "execution_count": 10,
   "metadata": {},
   "outputs": [
    {
     "data": {
      "text/plain": [
       "275"
      ]
     },
     "execution_count": 10,
     "metadata": {},
     "output_type": "execute_result"
    }
   ],
   "source": [
    "len(agedegen)"
   ]
  },
  {
   "cell_type": "code",
   "execution_count": 11,
   "metadata": {},
   "outputs": [],
   "source": [
    "import os"
   ]
  },
  {
   "cell_type": "code",
   "execution_count": 12,
   "metadata": {},
   "outputs": [],
   "source": [
    "dataset_dir=\"C:\\\\Users\\\\Rahul Mukthineni\\\\Desktop\\\\ocular_new\\\\preprocessed_images\""
   ]
  },
  {
   "cell_type": "code",
   "execution_count": 13,
   "metadata": {},
   "outputs": [],
   "source": [
    "agedegen_dir=\"C:\\\\Users\\\\Rahul Mukthineni\\\\Desktop\\\\ocular_new\\\\images_data\\\\agedegen\""
   ]
  },
  {
   "cell_type": "code",
   "execution_count": 14,
   "metadata": {},
   "outputs": [],
   "source": [
    "for img in agedegen:\n",
    "        image_path = os.path.join(dataset_dir,img)\n",
    "        out_path = os.path.join(agedegen_dir, img)\n",
    "        \n",
    "        try:\n",
    "            image = cv2.imread(image_path,cv2.IMREAD_COLOR)\n",
    "            cv2.imwrite(out_path, image)\n",
    "            \n",
    "        except:\n",
    "            \n",
    "            continue"
   ]
  },
  {
   "cell_type": "code",
   "execution_count": null,
   "metadata": {},
   "outputs": [],
   "source": []
  }
 ],
 "metadata": {
  "kernelspec": {
   "display_name": "Python 3",
   "language": "python",
   "name": "python3"
  },
  "language_info": {
   "codemirror_mode": {
    "name": "ipython",
    "version": 3
   },
   "file_extension": ".py",
   "mimetype": "text/x-python",
   "name": "python",
   "nbconvert_exporter": "python",
   "pygments_lexer": "ipython3",
   "version": "3.7.6"
  }
 },
 "nbformat": 4,
 "nbformat_minor": 4
}
