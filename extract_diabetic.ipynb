{
 "cells": [
  {
   "cell_type": "code",
   "execution_count": 1,
   "metadata": {},
   "outputs": [],
   "source": [
    "import numpy as np # linear algebra\n",
    "import pandas as pd # data processing, CSV file I/O (e.g. pd.read_csv)\n",
    "import cv2\n",
    "import random\n",
    "from tqdm import tqdm\n",
    "import matplotlib.pyplot as plt\n",
    "from tensorflow.keras.preprocessing.image import ImageDataGenerator"
   ]
  },
  {
   "cell_type": "code",
   "execution_count": 168,
   "metadata": {},
   "outputs": [],
   "source": [
    "df=pd.read_csv(r\"D:/Ocular/train_labels.csv\")"
   ]
  },
  {
   "cell_type": "code",
   "execution_count": 184,
   "metadata": {},
   "outputs": [],
   "source": [
    "normal = df.loc[(df.level == 0)][\"image\"].sample(600,random_state=42).values\n",
    "#normal = df.loc[(df.level == 0)][\"image\"].values"
   ]
  },
  {
   "cell_type": "code",
   "execution_count": 185,
   "metadata": {},
   "outputs": [
    {
     "data": {
      "text/plain": [
       "array(['18491_left', '10377_left', '5171_right', '9705_right',\n",
       "       '2110_left', '16683_right', '5453_right', '8477_right',\n",
       "       '8036_left', '10137_right', '1974_right', '5284_left',\n",
       "       '12568_left', '389_right', '2796_left', '8038_right',\n",
       "       '13128_right', '5448_left', '4069_left', '15576_left',\n",
       "       '16778_left', '8202_right', '15549_left', '1052_left',\n",
       "       '10166_left', '18904_left', '10224_right', '12506_right',\n",
       "       '8034_right', '5633_left', '14528_left', '6089_right',\n",
       "       '15236_left', '4499_right', '1073_right', '10903_left',\n",
       "       '17471_right', '6455_left', '1507_right', '157_left', '11789_left',\n",
       "       '10622_left', '2164_left', '19083_right', '15262_left',\n",
       "       '7270_left', '7390_right', '15061_right', '3948_left', '2758_left',\n",
       "       '12561_right', '4212_right', '4615_right', '7016_left',\n",
       "       '330_right', '2530_left', '2829_right', '4135_left', '13296_right',\n",
       "       '17853_right', '14763_left', '3844_left', '1569_left', '2633_left',\n",
       "       '557_right', '13430_right', '17746_left', '6568_left',\n",
       "       '10515_left', '16894_left', '11935_right', '1242_right',\n",
       "       '10763_right', '13541_left', '472_left', '12079_right',\n",
       "       '5296_right', '7035_right', '12171_right', '307_right',\n",
       "       '15353_left', '2384_right', '14692_left', '7032_right',\n",
       "       '3896_right', '9238_left', '17000_right', '11003_right',\n",
       "       '6592_right', '15248_right', '13260_right', '11048_right',\n",
       "       '18975_left', '3469_left', '12934_left', '17989_right',\n",
       "       '10451_left', '16389_right', '11780_right', '17488_left',\n",
       "       '6850_right', '18011_left', '12260_right', '3695_right',\n",
       "       '11382_left', '8662_right', '13058_right', '18069_right',\n",
       "       '4535_left', '2462_left', '16111_right', '10094_right',\n",
       "       '6799_left', '2683_left', '7481_right', '3541_right', '9940_left',\n",
       "       '8334_left', '13570_right', '4559_right', '9672_left',\n",
       "       '7091_right', '17769_left', '16385_right', '2622_left',\n",
       "       '5404_right', '2949_left', '13054_right', '33_left', '12662_left',\n",
       "       '12258_left', '17861_left', '4375_left', '644_right', '15433_left',\n",
       "       '3910_right', '8698_left', '14856_left', '3877_left', '5490_right',\n",
       "       '9168_left', '19223_right', '7976_right', '258_right',\n",
       "       '15208_right', '15340_right', '18558_left', '7648_left',\n",
       "       '8122_left', '16591_left', '4362_right', '12168_left',\n",
       "       '11704_left', '19134_left', '13268_left', '18308_right',\n",
       "       '162_left', '6219_right', '16593_right', '7964_left', '15061_left',\n",
       "       '2515_right', '7616_right', '18548_left', '18300_right',\n",
       "       '17173_right', '4641_right', '10144_right', '467_right',\n",
       "       '11321_right', '4518_left', '2758_right', '12182_left',\n",
       "       '14842_right', '9277_left', '11704_right', '12176_right',\n",
       "       '18000_right', '17308_right', '15470_right', '13808_left',\n",
       "       '9940_right', '7419_left', '18149_right', '6342_right',\n",
       "       '15101_right', '6653_right', '6498_right', '3673_right',\n",
       "       '14552_right', '4302_left', '5538_left', '12295_left',\n",
       "       '15506_left', '8393_right', '18546_left', '6940_right',\n",
       "       '1275_left', '12643_left', '3468_left', '11618_left',\n",
       "       '15006_right', '13230_left', '5198_right', '4784_left',\n",
       "       '7486_left', '2550_left', '16547_right', '17183_right',\n",
       "       '10224_left', '2169_right', '13583_right', '11385_right',\n",
       "       '17370_right', '745_left', '16710_left', '1981_right',\n",
       "       '15424_left', '2839_right', '11010_right', '2071_left',\n",
       "       '12656_right', '18704_left', '13391_left', '14460_left',\n",
       "       '11127_left', '13156_left', '14398_left', '19340_right',\n",
       "       '16179_right', '1427_right', '14753_right', '966_right',\n",
       "       '4206_left', '740_left', '2702_left', '2923_right', '17736_right',\n",
       "       '17057_left', '8155_right', '6759_right', '1713_left', '2820_left',\n",
       "       '15603_right', '1388_left', '14716_left', '13410_right',\n",
       "       '15005_right', '7608_left', '10873_right', '10754_right',\n",
       "       '9224_right', '12124_right', '13736_right', '13540_right',\n",
       "       '15585_left', '14965_right', '15767_right', '13976_right',\n",
       "       '17936_left', '10419_right', '2918_left', '9490_left',\n",
       "       '7838_right', '7162_right', '12792_left', '11048_left',\n",
       "       '18073_left', '10879_left', '3695_left', '16650_right', '177_left',\n",
       "       '1799_left', '2528_right', '921_left', '8675_left', '4861_right',\n",
       "       '16223_left', '10777_right', '14375_right', '13078_left',\n",
       "       '17581_left', '7922_left', '17038_right', '7050_right',\n",
       "       '12193_right', '2655_left', '16403_right', '16205_left',\n",
       "       '2795_right', '9313_right', '12068_left', '8280_right',\n",
       "       '7573_right', '18744_right', '9213_right', '6501_left',\n",
       "       '12721_left', '4294_right', '15958_left', '9929_right',\n",
       "       '15366_right', '9705_left', '17348_left', '2384_left', '51_right',\n",
       "       '14697_right', '16967_right', '7911_right', '17814_left',\n",
       "       '7201_right', '8975_left', '11543_left', '16897_left',\n",
       "       '18734_right', '4085_left', '16540_right', '4999_left',\n",
       "       '13089_right', '11050_right', '4703_left', '10032_right',\n",
       "       '7008_right', '2923_left', '4419_left', '2339_right', '4818_left',\n",
       "       '18319_left', '222_right', '5488_right', '5821_left',\n",
       "       '14056_right', '13994_right', '16732_right', '4195_left',\n",
       "       '6080_right', '7949_right', '1756_right', '2728_right',\n",
       "       '15206_right', '6189_left', '3567_right', '5670_left',\n",
       "       '6917_right', '12631_right', '6652_right', '8301_left',\n",
       "       '19206_left', '18738_right', '1988_left', '6445_left',\n",
       "       '19127_right', '6547_left', '2599_left', '9665_left', '11855_left',\n",
       "       '17876_left', '16499_right', '18315_left', '6001_left',\n",
       "       '6622_left', '15335_left', '18827_right', '8393_left', '8222_left',\n",
       "       '11317_right', '497_left', '5061_right', '9307_left', '8814_right',\n",
       "       '7375_left', '18710_right', '12998_left', '6523_left', '2735_left',\n",
       "       '12140_right', '5664_right', '18497_right', '8888_right',\n",
       "       '12553_right', '2258_left', '17962_right', '7011_left',\n",
       "       '9937_left', '818_right', '17289_left', '17123_right', '5112_left',\n",
       "       '18346_right', '3872_left', '13545_right', '11574_right',\n",
       "       '1514_left', '7379_left', '3308_left', '12712_left', '16496_right',\n",
       "       '18187_left', '17470_right', '1886_right', '7193_left',\n",
       "       '6715_right', '11455_left', '11626_right', '11262_right',\n",
       "       '8839_left', '3986_right', '18193_right', '14344_right',\n",
       "       '323_right', '9972_left', '14292_left', '58_right', '4558_right',\n",
       "       '10936_left', '5845_left', '623_right', '19130_left', '5933_left',\n",
       "       '17232_right', '4034_left', '9499_left', '18491_right',\n",
       "       '18039_right', '16451_right', '13350_right', '9257_right',\n",
       "       '7910_left', '4514_right', '7786_right', '18085_right',\n",
       "       '17037_left', '12817_right', '10059_left', '7607_left',\n",
       "       '14819_left', '6809_left', '7093_right', '16614_left', '6080_left',\n",
       "       '15062_left', '7644_right', '12289_right', '9925_left',\n",
       "       '2969_right', '18558_right', '2859_left', '1769_right',\n",
       "       '6221_left', '2362_right', '204_left', '10278_left', '12225_right',\n",
       "       '6835_right', '12239_right', '16735_left', '14784_right',\n",
       "       '17606_right', '494_right', '2355_right', '16877_right',\n",
       "       '7232_right', '4939_right', '11041_right', '7544_right',\n",
       "       '12461_left', '18158_left', '7475_left', '5101_left',\n",
       "       '18984_right', '17076_left', '10124_left', '13065_right',\n",
       "       '2652_right', '6541_left', '12001_right', '6316_right',\n",
       "       '16047_right', '5198_left', '8605_right', '14258_left',\n",
       "       '9651_left', '18048_right', '15587_left', '3283_left',\n",
       "       '11431_right', '1624_right', '15989_right', '4802_left',\n",
       "       '14595_left', '5233_right', '3660_right', '10550_right',\n",
       "       '866_left', '14550_left', '3511_left', '12618_left', '15018_left',\n",
       "       '9101_left', '1092_left', '3298_left', '95_left', '1399_right',\n",
       "       '17800_right', '2853_right', '15937_left', '14473_right',\n",
       "       '15247_right', '6062_right', '18029_left', '15810_right',\n",
       "       '602_left', '8434_left', '10646_right', '5690_left', '13993_right',\n",
       "       '16219_right', '4191_right', '15014_left', '7811_left',\n",
       "       '9536_right', '11726_right', '5340_right', '1959_left',\n",
       "       '12264_left', '2372_left', '8126_right', '12303_left',\n",
       "       '8935_right', '7214_right', '7796_right', '15053_right',\n",
       "       '7314_right', '9513_right', '15060_left', '12247_right',\n",
       "       '14920_left', '16973_right', '3130_right', '3321_left',\n",
       "       '1502_left', '6364_left', '17146_right', '10835_left',\n",
       "       '14630_right', '10368_left', '16149_right', '5073_right',\n",
       "       '2361_left', '12783_left', '17025_left', '5831_left', '9317_right',\n",
       "       '2448_right', '885_right', '14621_right', '2689_left',\n",
       "       '14835_right', '6872_left', '7647_left', '11779_right',\n",
       "       '10994_left', '17801_right', '13274_left', '6302_right',\n",
       "       '10053_left', '1478_right', '7251_left', '4887_left', '9966_right',\n",
       "       '19388_left', '5819_left', '14564_right', '14432_left',\n",
       "       '17019_right', '13457_right', '11750_left', '1047_left',\n",
       "       '10650_right', '10452_right', '4197_right', '784_right',\n",
       "       '19454_left', '16917_left', '8477_left', '18923_left',\n",
       "       '16897_right', '19491_right', '2134_left', '10976_right',\n",
       "       '17760_right', '10207_right', '10154_right', '12700_left',\n",
       "       '7091_left', '15946_right', '16673_right', '11121_left',\n",
       "       '15100_left', '6348_right'], dtype=object)"
      ]
     },
     "execution_count": 185,
     "metadata": {},
     "output_type": "execute_result"
    }
   ],
   "source": [
    "normal"
   ]
  },
  {
   "cell_type": "code",
   "execution_count": 180,
   "metadata": {},
   "outputs": [
    {
     "data": {
      "text/plain": [
       "600"
      ]
     },
     "execution_count": 180,
     "metadata": {},
     "output_type": "execute_result"
    }
   ],
   "source": [
    "len(normal)"
   ]
  },
  {
   "cell_type": "code",
   "execution_count": 181,
   "metadata": {},
   "outputs": [],
   "source": [
    "mild_dr = df.loc[(df.level ==1)][\"image\"].sample(300,random_state=42).values"
   ]
  },
  {
   "cell_type": "code",
   "execution_count": 173,
   "metadata": {},
   "outputs": [
    {
     "data": {
      "text/plain": [
       "array(['17298_left', '2010_right', '8493_left', '12278_right',\n",
       "       '13569_left', '13762_right', '9008_right', '12063_left',\n",
       "       '2516_right', '16576_left', '10737_right', '1817_right',\n",
       "       '17847_left', '8407_left', '7985_right', '13502_left', '8430_left',\n",
       "       '992_left', '14615_right', '5137_right', '2161_left', '2233_right',\n",
       "       '4304_left', '1100_right', '11526_left', '5891_right', '8669_left',\n",
       "       '11740_left', '5776_left', '3124_right', '19269_right',\n",
       "       '17647_right', '13447_left', '7494_right', '14587_right',\n",
       "       '1776_right', '14191_left', '14614_left', '15578_right',\n",
       "       '9505_left', '4769_right', '12831_left', '19422_right',\n",
       "       '8388_left', '18438_right', '9244_right', '15306_left',\n",
       "       '13643_right', '1932_left', '10812_left', '5974_left', '9120_left',\n",
       "       '5776_right', '15708_left', '1043_left', '14377_left',\n",
       "       '19452_left', '1409_left', '6165_left', '19269_left', '4434_left',\n",
       "       '12372_left', '12903_right', '15529_right', '17113_left',\n",
       "       '5841_left', '5811_right', '15095_right', '8231_right',\n",
       "       '18014_left', '14152_left', '14041_left', '4545_left',\n",
       "       '5288_right', '568_right', '9963_left', '13945_left', '13751_left',\n",
       "       '4304_right', '16289_right', '4113_right', '7601_left',\n",
       "       '17805_right', '5394_left', '17182_right', '4204_left',\n",
       "       '13333_left', '2844_right', '6546_left', '5953_right',\n",
       "       '12386_right', '15037_left', '17009_left', '227_left',\n",
       "       '6259_right', '5383_left', '6415_right', '16287_right',\n",
       "       '12614_right', '17550_right', '6811_right', '12311_left',\n",
       "       '6127_left', '6806_left', '9737_left', '5581_left', '17326_left',\n",
       "       '7504_left', '4831_left', '1036_left', '2129_right', '1226_left',\n",
       "       '13376_left', '16524_right', '15000_left', '12554_left',\n",
       "       '3189_right', '7378_right', '14374_right', '435_right',\n",
       "       '12514_right', '6643_right', '9300_right', '16042_left',\n",
       "       '14967_left', '13753_right', '12577_right', '9992_left',\n",
       "       '1669_right', '12683_right', '12554_right', '8623_right',\n",
       "       '14371_right', '13209_right', '4689_left', '1544_right',\n",
       "       '10808_left', '4395_left', '11308_right', '16941_left',\n",
       "       '3888_right', '2877_left', '7580_right', '5423_right',\n",
       "       '17202_right', '2858_left', '5365_left', '14901_left', '8873_left',\n",
       "       '6168_left', '12990_right', '5472_left', '13229_left',\n",
       "       '17852_left', '9183_right', '11500_left', '10551_right',\n",
       "       '7556_left', '6808_right', '10030_left', '6305_left', '8403_right',\n",
       "       '1592_left', '7560_left', '3622_left', '5962_right', '10177_left',\n",
       "       '3587_right', '12397_right', '869_left', '566_right',\n",
       "       '19004_right', '2802_right', '1098_left', '16095_right',\n",
       "       '14721_right', '5407_right', '12170_right', '5962_left',\n",
       "       '18297_left', '36_left', '9024_right', '9166_right', '18972_right',\n",
       "       '12139_right', '13158_left', '13770_left', '18372_right',\n",
       "       '4300_right', '1145_left', '18274_right', '13891_left',\n",
       "       '1283_left', '14664_right', '11959_right', '10030_right',\n",
       "       '1999_left', '3459_left', '9456_right', '6631_left', '6704_right',\n",
       "       '9244_left', '4931_right', '18528_left', '5118_right',\n",
       "       '5589_right', '11758_left', '9200_right', '4781_left',\n",
       "       '1343_right', '12139_left', '1369_left', '7475_right',\n",
       "       '10220_left', '240_right', '7172_left', '16857_right',\n",
       "       '12547_left', '17934_left', '19114_right', '17873_right',\n",
       "       '17564_left', '3767_right', '6240_right', '9632_left',\n",
       "       '12397_left', '7390_left', '15695_right', '16641_right',\n",
       "       '17442_right', '5980_right', '8162_left', '13714_right',\n",
       "       '17298_right', '5009_right', '5497_left', '10234_left', '30_left',\n",
       "       '178_left', '10177_right', '16835_right', '15083_right',\n",
       "       '11995_right', '7107_right', '11818_left', '15625_left',\n",
       "       '4329_left', '5118_left', '9342_left', '7505_left', '5062_right',\n",
       "       '18708_right', '12042_right', '6958_left', '11547_left',\n",
       "       '5044_left', '10672_right', '14251_right', '18759_left',\n",
       "       '15835_left', '5441_left', '4904_left', '525_left', '9539_right',\n",
       "       '1020_right', '2129_left', '1100_left', '6965_left', '4326_left',\n",
       "       '2382_right', '8029_left', '9251_left', '1520_left', '16672_right',\n",
       "       '6529_right', '5615_right', '15793_right', '8900_right',\n",
       "       '14251_left', '7556_right', '6459_left', '18185_left',\n",
       "       '9214_right', '15576_right', '9963_right', '9992_right',\n",
       "       '16386_left', '7726_left', '1266_left', '10594_right', '1856_left',\n",
       "       '12675_right', '5891_left', '13891_right', '5209_right',\n",
       "       '16741_left', '7739_right', '12241_left', '3722_left',\n",
       "       '17348_right'], dtype=object)"
      ]
     },
     "execution_count": 173,
     "metadata": {},
     "output_type": "execute_result"
    }
   ],
   "source": [
    "mild_dr"
   ]
  },
  {
   "cell_type": "code",
   "execution_count": 174,
   "metadata": {},
   "outputs": [
    {
     "data": {
      "text/plain": [
       "300"
      ]
     },
     "execution_count": 174,
     "metadata": {},
     "output_type": "execute_result"
    }
   ],
   "source": [
    "len(mild_dr)"
   ]
  },
  {
   "cell_type": "code",
   "execution_count": 175,
   "metadata": {},
   "outputs": [],
   "source": [
    "moderate_dr = df.loc[(df.level == 2)][\"image\"].sample(300,random_state=42).values"
   ]
  },
  {
   "cell_type": "code",
   "execution_count": 176,
   "metadata": {},
   "outputs": [
    {
     "data": {
      "text/plain": [
       "array(['17586_left', '12101_right', '11026_left', '19329_left',\n",
       "       '9134_right', '13494_left', '15799_right', '8181_right',\n",
       "       '7474_right', '1687_right', '12042_left', '13644_left',\n",
       "       '7446_right', '16360_left', '15297_right', '444_right',\n",
       "       '15531_left', '1827_left', '5205_left', '3265_left', '9284_right',\n",
       "       '6337_left', '11962_right', '13768_right', '11625_left',\n",
       "       '18999_right', '4764_right', '12654_right', '9633_right',\n",
       "       '9855_left', '4025_left', '3606_right', '5947_right', '7863_right',\n",
       "       '4149_right', '12857_left', '9939_left', '5394_right',\n",
       "       '13066_left', '8940_left', '1607_right', '12795_right',\n",
       "       '3744_left', '15117_right', '10616_left', '16452_right',\n",
       "       '19421_right', '10647_left', '9899_right', '1501_left',\n",
       "       '5859_left', '9919_right', '12286_right', '5066_left',\n",
       "       '5146_right', '16061_left', '18502_left', '17831_left',\n",
       "       '1941_right', '5024_left', '14097_left', '947_left', '13201_right',\n",
       "       '3026_right', '14202_left', '1536_right', '17373_right',\n",
       "       '14466_left', '1487_left', '3525_left', '8954_left', '6665_left',\n",
       "       '9586_left', '10976_left', '9546_left', '10408_left', '1111_left',\n",
       "       '10272_right', '7175_right', '12000_right', '12589_left',\n",
       "       '17222_left', '2315_right', '16748_right', '9831_right',\n",
       "       '16907_left', '6971_right', '14413_left', '13201_left',\n",
       "       '12410_left', '2729_left', '14626_right', '19193_right',\n",
       "       '12567_left', '16582_left', '13112_left', '4421_left',\n",
       "       '4657_right', '8966_left', '11291_left', '15354_left', '4364_left',\n",
       "       '12082_left', '17044_right', '12650_left', '375_left', '4824_left',\n",
       "       '12480_left', '3070_right', '1599_left', '15885_left',\n",
       "       '18688_right', '905_left', '11159_left', '6684_left', '10444_left',\n",
       "       '16095_left', '8169_left', '13534_right', '17788_right',\n",
       "       '14202_right', '6299_left', '15981_right', '2272_right',\n",
       "       '14336_right', '11647_right', '4258_right', '10339_left',\n",
       "       '18445_left', '9914_left', '4352_right', '13239_left',\n",
       "       '12503_left', '3418_right', '14048_left', '6731_right',\n",
       "       '7905_left', '1732_left', '11651_left', '15351_right',\n",
       "       '3759_right', '14748_left', '2030_left', '14876_left',\n",
       "       '3432_right', '15544_left', '10688_left', '14269_left',\n",
       "       '5183_right', '10325_right', '5896_left', '9619_left',\n",
       "       '9503_right', '12992_right', '7494_left', '6304_left',\n",
       "       '11243_right', '17473_left', '12743_left', '4078_right',\n",
       "       '16009_right', '11058_left', '3026_left', '12271_left',\n",
       "       '12525_right', '18534_left', '14811_right', '2001_right',\n",
       "       '14688_left', '16450_right', '8675_right', '18968_right',\n",
       "       '264_left', '10120_left', '1919_right', '3104_right', '8640_left',\n",
       "       '7695_left', '6874_left', '17252_right', '18095_right',\n",
       "       '12434_left', '18976_right', '8783_left', '13585_right',\n",
       "       '2029_right', '5676_left', '6339_right', '12290_right',\n",
       "       '1947_right', '4122_right', '12810_right', '7058_left',\n",
       "       '7862_left', '3989_left', '17634_right', '2047_left',\n",
       "       '16600_right', '8215_left', '3636_left', '560_right',\n",
       "       '18133_right', '14325_left', '7665_left', '4519_left',\n",
       "       '13808_right', '14249_right', '877_left', '3562_right',\n",
       "       '11724_right', '6079_right', '9809_right', '16391_left',\n",
       "       '2966_right', '15515_left', '9948_right', '13584_right',\n",
       "       '8039_right', '4696_left', '5396_right', '13651_left',\n",
       "       '19293_left', '11648_left', '17101_right', '8522_right',\n",
       "       '18382_right', '2081_left', '10592_right', '4970_left',\n",
       "       '3932_left', '10592_left', '2901_left', '5396_left', '9845_right',\n",
       "       '7601_right', '18474_right', '14723_right', '14323_left',\n",
       "       '12329_right', '11040_right', '5475_right', '2648_left',\n",
       "       '17611_left', '8499_right', '10397_right', '10920_right',\n",
       "       '1233_right', '1675_right', '15544_right', '15523_left',\n",
       "       '10262_right', '17415_right', '2468_right', '13588_left',\n",
       "       '11069_left', '3446_right', '18678_left', '18759_right',\n",
       "       '1407_right', '14490_right', '10112_left', '19343_right',\n",
       "       '10262_left', '11462_right', '8141_right', '17314_left',\n",
       "       '396_right', '558_left', '13180_left', '396_left', '4965_left',\n",
       "       '11230_right', '11217_right', '11270_left', '1037_right',\n",
       "       '7300_left', '19285_left', '13417_left', '5071_right',\n",
       "       '3372_right', '4078_left', '11409_left', '8092_left', '18382_left',\n",
       "       '15276_right', '7512_left', '12666_left', '8504_right',\n",
       "       '6878_left', '4466_right', '16991_right', '1960_right', '607_left',\n",
       "       '6299_right', '3738_left', '660_left', '12672_right',\n",
       "       '17694_right', '8245_right', '4214_left'], dtype=object)"
      ]
     },
     "execution_count": 176,
     "metadata": {},
     "output_type": "execute_result"
    }
   ],
   "source": [
    "moderate_dr"
   ]
  },
  {
   "cell_type": "code",
   "execution_count": 177,
   "metadata": {},
   "outputs": [
    {
     "data": {
      "text/plain": [
       "300"
      ]
     },
     "execution_count": 177,
     "metadata": {},
     "output_type": "execute_result"
    }
   ],
   "source": [
    "len(moderate_dr)"
   ]
  },
  {
   "cell_type": "code",
   "execution_count": 121,
   "metadata": {},
   "outputs": [],
   "source": [
    "severe_dr = df.loc[(df.level == 3)][\"image\"].sample(300,random_state=42).values"
   ]
  },
  {
   "cell_type": "code",
   "execution_count": 122,
   "metadata": {},
   "outputs": [
    {
     "data": {
      "text/plain": [
       "array(['15319_left', '13190_right', '11546_right', '16969_left',\n",
       "       '3307_left', '18970_left', '1471_right', '6687_left', '19018_left',\n",
       "       '12490_right', '18573_right', '6875_left', '10606_right',\n",
       "       '15631_right', '6433_left', '9590_right', '8302_left',\n",
       "       '18450_left', '18819_right', '12995_right', '2532_left',\n",
       "       '2132_right', '509_left', '5140_left', '687_right', '3287_right',\n",
       "       '7959_left', '12279_left', '99_left', '12667_right', '6321_left',\n",
       "       '1177_right', '16740_right', '4148_right', '7623_left',\n",
       "       '18901_right', '9977_left', '2767_left', '18350_left',\n",
       "       '15870_left', '4366_left', '6537_left', '6736_left', '8640_right',\n",
       "       '7631_right', '1162_left', '1420_right', '3992_right', '4967_left',\n",
       "       '3307_right', '1420_left', '3773_right', '16633_right',\n",
       "       '16201_left', '7060_right', '15376_right', '11211_right',\n",
       "       '3868_left', '352_left', '9697_left', '2577_right', '13190_left',\n",
       "       '3992_left', '14020_left', '15954_right', '11858_right',\n",
       "       '18235_right', '7026_right', '19380_left', '163_right',\n",
       "       '1002_left', '7859_right', '5823_right', '8798_left', '3422_left',\n",
       "       '12208_left', '4374_right', '8749_left', '16727_left',\n",
       "       '11590_left', '5140_right', '12149_right', '18971_left',\n",
       "       '14129_left', '13591_right', '18363_right', '17481_right',\n",
       "       '11142_left', '3988_left', '15690_left', '17749_right', '932_left',\n",
       "       '3444_right', '13222_right', '391_right', '1008_left',\n",
       "       '13716_left', '17899_left', '17586_right', '5789_left',\n",
       "       '9450_right', '18363_left', '18968_left', '15450_left',\n",
       "       '3343_right', '4155_left', '14340_right', '9846_left',\n",
       "       '12612_right', '8073_left', '6321_right', '932_right', '9526_left',\n",
       "       '1177_left', '11125_right', '17631_right', '7859_left',\n",
       "       '7349_left', '12014_left', '8302_right', '12612_left',\n",
       "       '13022_left', '19367_right', '16134_right', '14297_right',\n",
       "       '17843_left', '8798_right', '16011_right', '6875_right',\n",
       "       '9977_right', '18487_left', '15798_right', '8723_left',\n",
       "       '18573_left', '1640_left', '15056_left', '11219_left',\n",
       "       '18350_right', '10819_right', '3343_left', '6433_right',\n",
       "       '8424_left', '352_right', '14481_right', '14029_left', '531_left',\n",
       "       '9951_right', '5823_left', '4282_right', '10606_left',\n",
       "       '11871_left', '10819_left', '15319_right', '8565_right',\n",
       "       '15930_left', '4793_right', '11219_right', '7982_left',\n",
       "       '16692_right', '5139_right', '3570_right', '7026_left',\n",
       "       '5298_left', '7923_left', '15795_right', '5298_right',\n",
       "       '11858_left', '3570_left', '1162_right', '1919_left', '7923_right',\n",
       "       '6997_left', '3523_left', '18025_right', '18416_right',\n",
       "       '16936_left', '16025_left', '15954_left', '7060_left',\n",
       "       '7959_right', '14109_right', '4620_right', '16727_right',\n",
       "       '10579_right', '16740_left', '19097_right', '15795_left',\n",
       "       '10047_left', '16692_left', '16600_left', '11031_right',\n",
       "       '16624_right', '7298_right', '2016_right', '531_right',\n",
       "       '18656_left', '10125_right', '11211_left', '6502_right',\n",
       "       '9951_left', '14224_left', '12881_right', '6736_right',\n",
       "       '18235_left', '18901_left', '14481_left', '18025_left',\n",
       "       '8723_right', '13270_left', '7531_left', '8363_left', '11035_left',\n",
       "       '11031_left', '19018_right', '163_left', '11142_right',\n",
       "       '6687_right', '11590_right', '11734_left', '1196_left',\n",
       "       '6878_right', '15868_left', '11889_right', '16011_left',\n",
       "       '17843_right', '7137_right', '3868_right', '16374_right',\n",
       "       '1391_left', '4366_right', '17631_left', '5964_right',\n",
       "       '12208_right', '13889_right', '7398_right', '10125_left',\n",
       "       '14482_right', '2577_left', '18126_right', '3444_left',\n",
       "       '15388_right', '4531_right', '10153_left', '3748_right',\n",
       "       '8678_left', '609_left', '1639_right', '1350_right', '9001_left',\n",
       "       '7883_right', '16624_left', '17972_right', '8248_left',\n",
       "       '12000_left', '11697_right', '7329_right', '5185_right',\n",
       "       '3096_left', '12652_right', '15450_right', '15798_left',\n",
       "       '9934_left', '2496_right', '17953_right', '11196_right',\n",
       "       '13684_right', '16651_right', '328_right', '13716_right',\n",
       "       '17972_left', '5505_right', '11889_left', '16936_right',\n",
       "       '11267_right', '9001_right', '5304_left', '11529_left',\n",
       "       '3379_left', '2767_right', '1471_left', '14129_right',\n",
       "       '11035_right', '17953_left', '1196_right', '15930_right',\n",
       "       '12149_left', '13934_right', '8699_right', '16759_left',\n",
       "       '7623_right', '3379_right', '7520_right', '7276_left', '458_left',\n",
       "       '3422_right', '687_left', '8424_right', '2275_left', '18126_left',\n",
       "       '18656_right'], dtype=object)"
      ]
     },
     "execution_count": 122,
     "metadata": {},
     "output_type": "execute_result"
    }
   ],
   "source": [
    "severe_dr"
   ]
  },
  {
   "cell_type": "code",
   "execution_count": 123,
   "metadata": {},
   "outputs": [
    {
     "data": {
      "text/plain": [
       "300"
      ]
     },
     "execution_count": 123,
     "metadata": {},
     "output_type": "execute_result"
    }
   ],
   "source": [
    "len(severe_dr)"
   ]
  },
  {
   "cell_type": "code",
   "execution_count": 124,
   "metadata": {},
   "outputs": [],
   "source": [
    "proliferative_dr = df.loc[(df.level == 4)][\"image\"].sample(300,random_state=42).values"
   ]
  },
  {
   "cell_type": "code",
   "execution_count": 125,
   "metadata": {},
   "outputs": [
    {
     "data": {
      "text/plain": [
       "array(['12014_right', '10017_right', '7992_right', '13669_left',\n",
       "       '3993_left', '367_right', '8388_right', '10312_left', '10954_left',\n",
       "       '2031_right', '294_right', '7164_right', '2970_right',\n",
       "       '11854_right', '8292_right', '3064_left', '8743_right',\n",
       "       '13308_right', '16309_left', '9598_right', '15149_right',\n",
       "       '17453_right', '16046_right', '1138_right', '9682_left',\n",
       "       '14849_left', '217_right', '4496_right', '18143_right',\n",
       "       '7945_right', '9518_left', '18567_left', '13966_left', '2916_left',\n",
       "       '670_right', '18030_left', '4793_left', '6017_right', '1138_left',\n",
       "       '3611_right', '6096_right', '4909_left', '16392_right',\n",
       "       '8236_right', '326_right', '13066_right', '18059_right',\n",
       "       '4909_right', '19061_left', '15414_left', '14844_right',\n",
       "       '18819_left', '4005_right', '5105_right', '13038_right',\n",
       "       '15414_right', '14765_right', '7531_right', '19471_left',\n",
       "       '13387_left', '15114_left', '17453_left', '13999_right',\n",
       "       '15941_left', '4688_right', '11874_right', '3802_right',\n",
       "       '6613_left', '326_left', '11896_left', '1663_right', '1084_right',\n",
       "       '16802_left', '3563_right', '16007_right', '8090_left',\n",
       "       '9298_left', '15459_right', '13669_right', '17669_right',\n",
       "       '10904_left', '14495_right', '5258_right', '4130_left',\n",
       "       '8087_right', '10954_right', '9680_left', '936_right', '9608_left',\n",
       "       '5032_left', '16413_left', '8743_left', '4496_left', '458_right',\n",
       "       '405_left', '10785_right', '16114_left', '6719_left', '4155_right',\n",
       "       '15343_left', '2804_left', '670_left', '8950_left', '9942_left',\n",
       "       '18798_left', '4130_right', '7945_left', '4252_left', '1941_left',\n",
       "       '11896_right', '10047_right', '15343_right', '19110_right',\n",
       "       '936_left', '19347_left', '6707_right', '9353_right', '18902_left',\n",
       "       '5825_left', '16565_right', '11492_left', '13819_right',\n",
       "       '16581_right', '19005_right', '9419_right', '15590_right',\n",
       "       '3563_left', '11492_right', '18803_right', '13222_left',\n",
       "       '17411_right', '9157_left', '2804_right', '13664_right',\n",
       "       '11807_left', '12419_right', '8087_left', '16413_right',\n",
       "       '8292_left', '18030_right', '17899_right', '18567_right',\n",
       "       '12108_left', '12419_left', '217_left', '8236_left', '9682_right',\n",
       "       '12108_right', '8462_left', '14436_right', '17135_right',\n",
       "       '9156_left', '4531_left', '1663_left', '5258_left', '16392_left',\n",
       "       '7853_right', '10321_left', '10785_left', '9298_right',\n",
       "       '13387_right', '14849_right', '4086_right', '13811_left',\n",
       "       '5304_right', '14844_left', '10570_left', '406_left', '2338_right',\n",
       "       '1430_right', '11032_right', '9598_left', '13395_right',\n",
       "       '9216_left', '11854_left', '3412_left', '6707_left', '15149_left',\n",
       "       '11874_left', '15038_right', '2880_right', '6017_left',\n",
       "       '14976_left', '9353_left', '1350_left', '19116_right',\n",
       "       '9518_right', '13819_left', '16_left', '17489_right', '17925_left',\n",
       "       '7164_left', '17221_right', '7398_left', '11417_right',\n",
       "       '6719_right', '2496_left', '3993_right', '9863_left',\n",
       "       '15975_right', '13938_left', '18370_left', '405_right',\n",
       "       '19347_right', '13651_right', '17489_left', '1430_left',\n",
       "       '15038_left', '294_left', '8681_left', '2016_left', '15459_left',\n",
       "       '10653_right', '14340_left', '16802_right', '9419_left',\n",
       "       '4005_left', '14025_right', '9311_right', '9156_right',\n",
       "       '19061_right', '367_left', '4252_right', '17940_right',\n",
       "       '4086_left', '2970_left', '15975_left', '10193_right',\n",
       "       '2810_right', '8681_right', '18017_left', '14084_left',\n",
       "       '10017_left', '1099_right', '17221_left', '7992_left', '5105_left',\n",
       "       '15388_left', '13811_right', '13999_left', '2810_left',\n",
       "       '16114_right', '19110_left', '16920_left', '13588_right',\n",
       "       '439_right', '3064_right', '6613_right', '17426_left',\n",
       "       '14976_right', '17940_left', '13664_left', '10653_left',\n",
       "       '2916_right', '14084_right', '9608_right', '12995_left',\n",
       "       '7821_right', '3418_left', '16_right', '3371_left', '5032_right',\n",
       "       '13705_left', '2338_left', '17114_right', '6096_left',\n",
       "       '3412_right', '17135_left', '15590_left', '406_right', '5838_left',\n",
       "       '10904_right', '19285_right', '9311_left', '18902_right',\n",
       "       '15870_right', '3501_left', '3371_right', '11730_right',\n",
       "       '12861_right', '19471_right', '12652_left', '11032_left',\n",
       "       '3802_left', '3088_left', '15376_left', '16309_right', '1084_left',\n",
       "       '10570_right', '17749_left', '13022_right', '16565_left',\n",
       "       '9783_right', '9157_right', '9863_right', '6997_right',\n",
       "       '5825_right', '14021_right', '8462_right', '19485_right'],\n",
       "      dtype=object)"
      ]
     },
     "execution_count": 125,
     "metadata": {},
     "output_type": "execute_result"
    }
   ],
   "source": [
    "proliferative_dr"
   ]
  },
  {
   "cell_type": "code",
   "execution_count": 126,
   "metadata": {},
   "outputs": [
    {
     "data": {
      "text/plain": [
       "300"
      ]
     },
     "execution_count": 126,
     "metadata": {},
     "output_type": "execute_result"
    }
   ],
   "source": [
    "len(proliferative_dr)"
   ]
  },
  {
   "cell_type": "code",
   "execution_count": 134,
   "metadata": {},
   "outputs": [],
   "source": [
    "import os"
   ]
  },
  {
   "cell_type": "code",
   "execution_count": 141,
   "metadata": {},
   "outputs": [],
   "source": [
    "dataset_dir=\"D:\\\\Ocular\\\\train_zip\\\\train\""
   ]
  },
  {
   "cell_type": "code",
   "execution_count": 146,
   "metadata": {},
   "outputs": [],
   "source": [
    "normal_dir=\"D:\\\\Ocular\\\\diabetic_data\\\\normal\""
   ]
  },
  {
   "cell_type": "code",
   "execution_count": 147,
   "metadata": {},
   "outputs": [],
   "source": [
    " image_path=os.path.join(dataset_dir,img)"
   ]
  },
  {
   "cell_type": "code",
   "execution_count": 148,
   "metadata": {},
   "outputs": [
    {
     "data": {
      "text/plain": [
       "'D:/Ocular/train_zip/train\\\\19498_right'"
      ]
     },
     "execution_count": 148,
     "metadata": {},
     "output_type": "execute_result"
    }
   ],
   "source": [
    "image_path"
   ]
  },
  {
   "cell_type": "code",
   "execution_count": 186,
   "metadata": {},
   "outputs": [
    {
     "data": {
      "text/plain": [
       "'10377_left.jpeg'"
      ]
     },
     "execution_count": 186,
     "metadata": {},
     "output_type": "execute_result"
    }
   ],
   "source": [
    "normal = normal + \".jpeg\"\n",
    "normal[1]"
   ]
  },
  {
   "cell_type": "code",
   "execution_count": 192,
   "metadata": {},
   "outputs": [],
   "source": [
    "for img in normal:\n",
    "    image_path=os.path.join(dataset_dir,img)\n",
    "    out_path=os.path.join(normal_dir,img)\n",
    "    try:\n",
    "        image=cv2.imread(image_path)\n",
    "        cv2.imwrite(out_path,image)\n",
    "    except:\n",
    "        continue"
   ]
  },
  {
   "cell_type": "code",
   "execution_count": 188,
   "metadata": {},
   "outputs": [
    {
     "data": {
      "text/plain": [
       "'2010_right.jpeg'"
      ]
     },
     "execution_count": 188,
     "metadata": {},
     "output_type": "execute_result"
    }
   ],
   "source": [
    "mild_dr = mild_dr + \".jpeg\"\n",
    "mild_dr[1]"
   ]
  },
  {
   "cell_type": "code",
   "execution_count": 193,
   "metadata": {},
   "outputs": [],
   "source": [
    "mild_dir=\"D:\\\\Ocular\\\\diabetic_data\\\\mild_dr\""
   ]
  },
  {
   "cell_type": "code",
   "execution_count": 194,
   "metadata": {},
   "outputs": [],
   "source": [
    "for img in mild_dr:\n",
    "    image_path=os.path.join(dataset_dir,img)\n",
    "    out_path=os.path.join(mild_dir,img)\n",
    "    try:\n",
    "        image=cv2.imread(image_path)\n",
    "        cv2.imwrite(out_path,image)\n",
    "    except:\n",
    "        continue"
   ]
  },
  {
   "cell_type": "code",
   "execution_count": 195,
   "metadata": {},
   "outputs": [
    {
     "data": {
      "text/plain": [
       "'12101_right.jpeg'"
      ]
     },
     "execution_count": 195,
     "metadata": {},
     "output_type": "execute_result"
    }
   ],
   "source": [
    "moderate_dr = moderate_dr + \".jpeg\"\n",
    "moderate_dr[1]"
   ]
  },
  {
   "cell_type": "code",
   "execution_count": 196,
   "metadata": {},
   "outputs": [],
   "source": [
    "moderate_dir=\"D:\\\\Ocular\\\\diabetic_data\\\\moderate_dr\""
   ]
  },
  {
   "cell_type": "code",
   "execution_count": 197,
   "metadata": {},
   "outputs": [],
   "source": [
    "for img in moderate_dr:\n",
    "    image_path=os.path.join(dataset_dir,img)\n",
    "    out_path=os.path.join(moderate_dir,img)\n",
    "    try:\n",
    "        image=cv2.imread(image_path)\n",
    "        cv2.imwrite(out_path,image)\n",
    "    except:\n",
    "        continue"
   ]
  },
  {
   "cell_type": "code",
   "execution_count": 198,
   "metadata": {},
   "outputs": [
    {
     "data": {
      "text/plain": [
       "'13190_right.jpeg'"
      ]
     },
     "execution_count": 198,
     "metadata": {},
     "output_type": "execute_result"
    }
   ],
   "source": [
    "severe_dr = severe_dr + \".jpeg\"\n",
    "severe_dr[1]"
   ]
  },
  {
   "cell_type": "code",
   "execution_count": 199,
   "metadata": {},
   "outputs": [],
   "source": [
    "severe_dir=\"D:\\\\Ocular\\\\diabetic_data\\\\severe_dr\""
   ]
  },
  {
   "cell_type": "code",
   "execution_count": 200,
   "metadata": {},
   "outputs": [],
   "source": [
    "for img in severe_dr:\n",
    "    image_path=os.path.join(dataset_dir,img)\n",
    "    out_path=os.path.join(severe_dir,img)\n",
    "    try:\n",
    "        image=cv2.imread(image_path)\n",
    "        cv2.imwrite(out_path,image)\n",
    "    except:\n",
    "        continue"
   ]
  },
  {
   "cell_type": "code",
   "execution_count": 201,
   "metadata": {},
   "outputs": [
    {
     "data": {
      "text/plain": [
       "'13190_right.jpeg.jpeg'"
      ]
     },
     "execution_count": 201,
     "metadata": {},
     "output_type": "execute_result"
    }
   ],
   "source": [
    "proliferative_dr = severe_dr + \".jpeg\"\n",
    "proliferative_dr[1]"
   ]
  },
  {
   "cell_type": "code",
   "execution_count": 202,
   "metadata": {},
   "outputs": [],
   "source": [
    "proliferative_dir=\"D:\\\\Ocular\\\\diabetic_data\\\\proliferative_dr\""
   ]
  },
  {
   "cell_type": "code",
   "execution_count": 203,
   "metadata": {},
   "outputs": [],
   "source": [
    "for img in proliferative_dr:\n",
    "    image_path=os.path.join(dataset_dir,img)\n",
    "    out_path=os.path.join(proliferative_dir,img)\n",
    "    try:\n",
    "        image=cv2.imread(image_path)\n",
    "        cv2.imwrite(out_path,image)\n",
    "    except:\n",
    "        continue"
   ]
  },
  {
   "cell_type": "code",
   "execution_count": null,
   "metadata": {},
   "outputs": [],
   "source": []
  }
 ],
 "metadata": {
  "kernelspec": {
   "display_name": "Python [conda env:opular]",
   "language": "python",
   "name": "conda-env-opular-py"
  },
  "language_info": {
   "codemirror_mode": {
    "name": "ipython",
    "version": 3
   },
   "file_extension": ".py",
   "mimetype": "text/x-python",
   "name": "python",
   "nbconvert_exporter": "python",
   "pygments_lexer": "ipython3",
   "version": "3.6.12"
  }
 },
 "nbformat": 4,
 "nbformat_minor": 4
}
