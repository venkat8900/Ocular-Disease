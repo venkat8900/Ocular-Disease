{
 "cells": [
  {
   "cell_type": "code",
   "execution_count": 1,
   "metadata": {},
   "outputs": [],
   "source": [
    "import numpy as np # linear algebra\n",
    "import pandas as pd # data processing, CSV file I/O (e.g. pd.read_csv)\n",
    "import cv2\n",
    "import random\n",
    "from tqdm import tqdm\n",
    "import matplotlib.pyplot as plt\n",
    "from tensorflow.keras.preprocessing.image import ImageDataGenerator"
   ]
  },
  {
   "cell_type": "code",
   "execution_count": 2,
   "metadata": {},
   "outputs": [],
   "source": [
    "df=pd.read_csv(r\"D:/Ocular/train_labels.csv\")"
   ]
  },
  {
   "cell_type": "code",
   "execution_count": 3,
   "metadata": {},
   "outputs": [],
   "source": [
    "normal = df.loc[(df.level == 0)][\"image\"].sample(1200,random_state=42).values\n",
    "#normal = df.loc[(df.level == 0)][\"image\"].values"
   ]
  },
  {
   "cell_type": "code",
   "execution_count": 4,
   "metadata": {},
   "outputs": [
    {
     "data": {
      "text/plain": [
       "array(['23991_left', '24695_right', '11186_left', ..., '27169_left',\n",
       "       '8514_left', '20748_right'], dtype=object)"
      ]
     },
     "execution_count": 4,
     "metadata": {},
     "output_type": "execute_result"
    }
   ],
   "source": [
    "normal"
   ]
  },
  {
   "cell_type": "code",
   "execution_count": 5,
   "metadata": {},
   "outputs": [
    {
     "data": {
      "text/plain": [
       "1200"
      ]
     },
     "execution_count": 5,
     "metadata": {},
     "output_type": "execute_result"
    }
   ],
   "source": [
    "len(normal)"
   ]
  },
  {
   "cell_type": "code",
   "execution_count": 6,
   "metadata": {},
   "outputs": [],
   "source": [
    "mild_dr = df.loc[(df.level ==1)][\"image\"].sample(300,random_state=42).values"
   ]
  },
  {
   "cell_type": "code",
   "execution_count": 7,
   "metadata": {},
   "outputs": [
    {
     "data": {
      "text/plain": [
       "array(['566_left', '4916_left', '6865_left', '7504_left', '4711_right',\n",
       "       '13714_left', '26123_left', '8669_left', '8637_right',\n",
       "       '13169_left', '7378_right', '28457_left', '12452_left',\n",
       "       '4831_left', '9737_right', '5044_right', '16289_left',\n",
       "       '13502_left', '18770_right', '20280_right', '19953_right',\n",
       "       '28796_left', '14191_left', '13762_right', '13962_left',\n",
       "       '6704_right', '21172_right', '17934_left', '27943_left',\n",
       "       '5962_left', '17798_left', '26024_left', '10672_left', '566_right',\n",
       "       '14614_right', '19114_right', '21513_right', '9467_left',\n",
       "       '8410_left', '4946_left', '1343_left', '22080_left', '11995_right',\n",
       "       '3271_right', '9963_left', '435_right', '6840_right', '607_right',\n",
       "       '5497_right', '13659_left', '19452_left', '14501_right',\n",
       "       '19743_left', '7299_right', '9963_right', '10220_left',\n",
       "       '7601_left', '20249_right', '6772_left', '20677_right',\n",
       "       '1986_right', '23856_left', '9244_left', '1409_left',\n",
       "       '19849_right', '1374_right', '1226_left', '5118_left', '5526_left',\n",
       "       '13447_left', '4781_left', '19029_left', '23394_left',\n",
       "       '23534_left', '3459_left', '6259_right', '25478_right',\n",
       "       '10030_right', '11183_right', '20806_right', '28469_right',\n",
       "       '4689_left', '25448_right', '15835_right', '5841_right',\n",
       "       '7290_left', '13209_left', '25390_right', '7556_right',\n",
       "       '7390_left', '6165_left', '23916_right', '5615_right',\n",
       "       '25162_left', '12233_left', '2691_left', '17555_left', '5720_left',\n",
       "       '15396_right', '1036_left', '21483_left', '27885_right',\n",
       "       '14936_right', '15835_left', '15190_right', '8418_right',\n",
       "       '15029_left', '11818_right', '2433_right', '19022_right',\n",
       "       '15855_right', '11740_left', '7107_right', '27541_left',\n",
       "       '9505_left', '11113_right', '25236_left', '26312_right',\n",
       "       '20062_right', '1520_right', '2161_left', '24996_left',\n",
       "       '4434_left', '27214_right', '25210_right', '26103_left',\n",
       "       '3767_right', '14403_right', '27677_right', '12903_right',\n",
       "       '3774_right', '1043_left', '1544_right', '10221_right',\n",
       "       '9100_left', '14212_right', '19075_left', '25296_left',\n",
       "       '14825_left', '2430_left', '5044_left', '7898_right', '11263_left',\n",
       "       '7172_left', '14664_left', '28947_left', '25758_right',\n",
       "       '5118_right', '20082_left', '27436_right', '1369_left',\n",
       "       '14212_left', '2877_left', '12872_right', '16197_right',\n",
       "       '9244_right', '18368_right', '4232_right', '16386_left',\n",
       "       '3587_left', '17732_right', '14227_right', '15886_right',\n",
       "       '4852_left', '19177_left', '5581_left', '8407_left', '24813_right',\n",
       "       '21756_left', '24155_right', '27932_right', '25551_right',\n",
       "       '13209_right', '17089_right', '23553_right', '8555_right',\n",
       "       '6643_left', '12547_left', '14936_left', '18274_right',\n",
       "       '28442_right', '25604_left', '8162_left', '16641_left',\n",
       "       '13891_left', '6005_left', '20134_left', '9632_left', '5441_right',\n",
       "       '10085_left', '14041_left', '20286_right', '3464_right',\n",
       "       '19141_right', '29038_left', '5365_left', '992_left', '9255_right',\n",
       "       '20404_left', '15487_left', '15578_right', '14397_left',\n",
       "       '19976_left', '19878_left', '20082_right', '28905_left',\n",
       "       '29020_left', '2294_left', '9200_right', '12386_right',\n",
       "       '29102_left', '3605_left', '6199_right', '12139_right',\n",
       "       '16509_left', '7457_right', '1592_left', '15248_left',\n",
       "       '26477_left', '22625_right', '23996_left', '23538_right',\n",
       "       '19193_left', '26627_right', '4113_right', '348_left',\n",
       "       '25008_right', '17840_right', '9423_right', '11995_left',\n",
       "       '22887_right', '12139_left', '21978_right', '16488_right',\n",
       "       '14110_right', '10233_right', '12683_right', '23502_left',\n",
       "       '4204_left', '22077_left', '23873_left', '8295_right',\n",
       "       '28327_left', '24962_left', '11736_left', '5472_left',\n",
       "       '14110_left', '7459_left', '20464_left', '28015_right',\n",
       "       '24237_right', '20286_left', '12227_right', '20993_left',\n",
       "       '4755_left', '9810_left', '1100_right', '14627_right', '978_right',\n",
       "       '1999_left', '17202_left', '2010_right', '23523_right',\n",
       "       '2129_right', '9024_right', '7961_left', '9992_right',\n",
       "       '26863_right', '25417_left', '10030_left', '23050_right',\n",
       "       '16658_right', '2516_right', '5953_right', '6459_left',\n",
       "       '27755_right', '18155_right', '24490_left', '10657_right',\n",
       "       '19431_right', '24341_right', '17037_right', '6811_right',\n",
       "       '15029_right', '16280_right', '6127_left', '8623_right',\n",
       "       '12278_left', '10177_right', '21456_left', '17495_right',\n",
       "       '4545_left', '24655_right', '10812_left', '3303_right',\n",
       "       '13994_left', '9116_left', '5010_left', '26503_right',\n",
       "       '24336_right'], dtype=object)"
      ]
     },
     "execution_count": 7,
     "metadata": {},
     "output_type": "execute_result"
    }
   ],
   "source": [
    "mild_dr"
   ]
  },
  {
   "cell_type": "code",
   "execution_count": 8,
   "metadata": {},
   "outputs": [
    {
     "data": {
      "text/plain": [
       "300"
      ]
     },
     "execution_count": 8,
     "metadata": {},
     "output_type": "execute_result"
    }
   ],
   "source": [
    "len(mild_dr)"
   ]
  },
  {
   "cell_type": "code",
   "execution_count": 9,
   "metadata": {},
   "outputs": [],
   "source": [
    "moderate_dr = df.loc[(df.level == 2)][\"image\"].sample(300,random_state=42).values"
   ]
  },
  {
   "cell_type": "code",
   "execution_count": 10,
   "metadata": {},
   "outputs": [
    {
     "data": {
      "text/plain": [
       "array(['5795_right', '2272_right', '11625_left', '28770_left',\n",
       "       '17669_left', '16777_left', '26209_right', '14249_left',\n",
       "       '4078_left', '8610_left', '18570_left', '17548_left',\n",
       "       '23540_right', '20882_left', '27581_left', '19614_left',\n",
       "       '13705_right', '3031_right', '25426_right', '22227_left',\n",
       "       '24318_right', '11776_right', '3655_left', '24402_right',\n",
       "       '27747_right', '14269_right', '5324_left', '14467_left',\n",
       "       '16832_right', '5496_right', '7307_left', '25912_right',\n",
       "       '14501_left', '28629_right', '27148_left', '4078_right',\n",
       "       '9167_left', '26677_left', '14425_right', '4624_right',\n",
       "       '28577_left', '4352_left', '13786_right', '8181_right',\n",
       "       '14053_left', '607_left', '6053_left', '6236_right', '26766_right',\n",
       "       '1732_left', '26630_right', '27914_left', '10109_right',\n",
       "       '857_left', '12480_right', '1599_left', '6139_right', '25720_left',\n",
       "       '1527_left', '23023_right', '14282_right', '23165_left',\n",
       "       '6971_right', '23454_left', '27587_left', '21852_right',\n",
       "       '239_right', '19953_left', '13051_left', '19254_left', '283_right',\n",
       "       '6874_left', '18446_left', '419_right', '16609_right', '3265_left',\n",
       "       '27624_left', '22461_right', '26194_left', '6129_right',\n",
       "       '13820_left', '8583_left', '21703_right', '4698_right',\n",
       "       '17817_left', '9713_right', '28559_right', '12525_right',\n",
       "       '6990_right', '1632_right', '3932_left', '16757_right',\n",
       "       '23177_right', '14045_right', '19167_left', '12775_right',\n",
       "       '10306_right', '15375_right', '26328_left', '15799_right',\n",
       "       '2489_left', '9741_left', '15923_left', '15914_right',\n",
       "       '9633_right', '22132_right', '15302_right', '2424_left',\n",
       "       '19614_right', '3372_right', '1111_left', '28460_left',\n",
       "       '6551_right', '12567_left', '28722_left', '26113_right',\n",
       "       '13002_right', '13112_left', '3759_right', '19966_left',\n",
       "       '19612_right', '5420_left', '16154_left', '9846_right',\n",
       "       '14202_left', '14048_left', '5872_left', '7665_left',\n",
       "       '20310_right', '11316_right', '2468_left', '1142_right',\n",
       "       '6518_left', '9798_right', '23110_left', '16582_right',\n",
       "       '26874_left', '427_left', '25574_left', '17049_right',\n",
       "       '9351_right', '19478_right', '20471_left', '20482_right',\n",
       "       '1501_left', '1178_left', '14880_left', '8954_right', '681_left',\n",
       "       '8621_left', '16061_left', '184_left', '4307_left', '4620_left',\n",
       "       '4370_right', '27560_right', '27889_left', '23736_right',\n",
       "       '25783_left', '11243_right', '25300_left', '9876_right',\n",
       "       '18452_right', '2648_left', '28406_right', '3420_left',\n",
       "       '20425_left', '4464_right', '8621_right', '12835_left',\n",
       "       '20785_left', '24550_right', '23761_right', '21874_left',\n",
       "       '7437_right', '15639_left', '24864_left', '11962_right',\n",
       "       '5066_right', '2648_right', '23529_right', '25482_right',\n",
       "       '264_right', '7446_right', '13038_left', '17044_left',\n",
       "       '7617_right', '11651_left', '17586_left', '21571_left',\n",
       "       '7971_left', '5047_right', '22193_right', '2180_right',\n",
       "       '27297_left', '12271_left', '1469_right', '21994_right',\n",
       "       '23967_left', '13591_left', '28118_left', '21941_left',\n",
       "       '13684_left', '27982_right', '1544_left', '17415_right',\n",
       "       '21172_left', '6561_left', '3606_right', '13607_left',\n",
       "       '20926_right', '7059_right', '1526_left', '286_left', '1419_right',\n",
       "       '25955_right', '2447_left', '18420_right', '11120_left',\n",
       "       '9907_right', '8029_right', '7982_right', '21281_right',\n",
       "       '20036_right', '19628_right', '3418_right', '3914_left',\n",
       "       '12410_right', '12857_left', '11384_left', '14474_left',\n",
       "       '17611_left', '1552_right', '28895_left', '8940_left',\n",
       "       '29023_right', '5913_left', '13651_left', '7884_right',\n",
       "       '1919_right', '25683_left', '13201_left', '25198_right',\n",
       "       '20967_right', '26163_right', '7222_right', '12795_right',\n",
       "       '23395_left', '10671_right', '11650_right', '17075_right',\n",
       "       '7474_right', '21753_right', '10680_left', '7352_left',\n",
       "       '2470_right', '17679_left', '29114_left', '7415_left',\n",
       "       '20095_right', '5541_right', '27810_left', '696_right',\n",
       "       '9586_left', '17831_right', '27077_left', '14703_left',\n",
       "       '6459_right', '17314_left', '28039_left', '5329_left', '3884_left',\n",
       "       '21469_left', '13099_right', '6299_right', '11159_left',\n",
       "       '7700_right', '10319_right', '6684_left', '8677_right',\n",
       "       '2065_left', '5577_right', '24485_right', '25958_left',\n",
       "       '20054_left', '13820_right', '15493_left', '1947_left',\n",
       "       '2613_left', '11698_right', '2610_right', '3738_left',\n",
       "       '6367_right', '1495_left', '27148_right', '8771_left',\n",
       "       '17366_right', '3317_left', '7316_left', '25404_left'],\n",
       "      dtype=object)"
      ]
     },
     "execution_count": 10,
     "metadata": {},
     "output_type": "execute_result"
    }
   ],
   "source": [
    "moderate_dr"
   ]
  },
  {
   "cell_type": "code",
   "execution_count": 11,
   "metadata": {},
   "outputs": [
    {
     "data": {
      "text/plain": [
       "300"
      ]
     },
     "execution_count": 11,
     "metadata": {},
     "output_type": "execute_result"
    }
   ],
   "source": [
    "len(moderate_dr)"
   ]
  },
  {
   "cell_type": "code",
   "execution_count": 12,
   "metadata": {},
   "outputs": [],
   "source": [
    "severe_dr = df.loc[(df.level == 3)][\"image\"].sample(300,random_state=42).values"
   ]
  },
  {
   "cell_type": "code",
   "execution_count": 13,
   "metadata": {},
   "outputs": [
    {
     "data": {
      "text/plain": [
       "array(['26200_left', '3748_right', '7329_right', '21033_left',\n",
       "       '27922_left', '16727_left', '10159_right', '1391_left',\n",
       "       '4282_right', '16412_right', '23566_right', '14482_right',\n",
       "       '27732_right', '26254_left', '27506_right', '4366_right',\n",
       "       '16600_left', '8749_left', '5789_left', '17749_right', '3868_left',\n",
       "       '15690_left', '20760_right', '14020_left', '28675_right',\n",
       "       '3992_left', '12881_right', '28668_right', '12612_left',\n",
       "       '3773_right', '15954_right', '29097_left', '22502_left',\n",
       "       '27768_left', '12279_left', '3287_right', '531_left',\n",
       "       '10579_right', '352_right', '4967_left', '5823_right',\n",
       "       '23245_right', '18901_right', '10819_left', '8723_left',\n",
       "       '6321_right', '15056_left', '28840_left', '8798_left',\n",
       "       '23695_right', '17481_right', '1420_left', '8424_left',\n",
       "       '8073_left', '13934_left', '20613_right', '12279_right',\n",
       "       '4366_left', '2132_right', '14481_right', '4155_left', '163_left',\n",
       "       '29004_right', '27803_left', '11142_left', '26888_right',\n",
       "       '6875_left', '4148_right', '11546_right', '13889_left',\n",
       "       '17586_right', '531_right', '20905_left', '22160_left',\n",
       "       '16201_left', '22502_right', '14224_left', '17631_right',\n",
       "       '7959_left', '19920_right', '7349_left', '10125_left',\n",
       "       '4620_right', '12149_right', '11211_left', '28919_right',\n",
       "       '509_left', '26254_right', '14297_right', '26198_left',\n",
       "       '4374_right', '15450_left', '17953_right', '23884_left',\n",
       "       '17899_left', '6433_left', '29018_left', '11142_right',\n",
       "       '11211_right', '8302_right', '22930_left', '7859_left',\n",
       "       '3992_right', '21580_left', '22978_left', '16969_right',\n",
       "       '23648_left', '9697_left', '27867_left', '11035_left', '3988_left',\n",
       "       '13270_left', '27489_right', '26997_right', '3570_left',\n",
       "       '9977_right', '3422_left', '8640_right', '3343_right', '687_right',\n",
       "       '18656_left', '7623_left', '24346_left', '22769_left', '4773_left',\n",
       "       '23426_left', '6736_right', '18126_left', '18970_left',\n",
       "       '1471_right', '99_left', '28975_right', '16025_left', '27653_left',\n",
       "       '11219_left', '1162_left', '20939_left', '13190_right',\n",
       "       '4793_right', '21580_right', '9977_left', '1002_left',\n",
       "       '14109_right', '15798_right', '7923_right', '26299_left',\n",
       "       '12995_right', '25119_right', '27732_left', '10125_right',\n",
       "       '18819_right', '3287_left', '16718_right', '2767_left',\n",
       "       '5140_left', '19097_left', '6321_left', '13190_left',\n",
       "       '29097_right', '22959_right', '20760_left', '11219_right',\n",
       "       '20402_left', '21389_left', '18573_left', '27094_right',\n",
       "       '22679_right', '3570_right', '13716_left', '9846_left',\n",
       "       '20574_right', '21796_left', '8073_right', '7026_right',\n",
       "       '21874_right', '10819_right', '14109_left', '23245_left',\n",
       "       '23318_right', '21760_right', '17631_left', '27224_right',\n",
       "       '28901_left', '6687_left', '7859_right', '28405_left', '391_right',\n",
       "       '24232_right', '1008_left', '9450_right', '21558_right',\n",
       "       '3307_left', '14481_left', '20111_right', '28129_left',\n",
       "       '17843_left', '15319_right', '2862_right', '23787_left',\n",
       "       '1177_right', '21177_left', '16651_right', '25723_right',\n",
       "       '2532_left', '19414_left', '12000_left', '28047_left',\n",
       "       '25318_right', '18046_right', '8363_left', '7060_right',\n",
       "       '15319_left', '28052_right', '21233_right', '9526_right',\n",
       "       '1420_right', '6537_left', '28129_right', '9526_left',\n",
       "       '15631_right', '11889_right', '3307_right', '23318_left',\n",
       "       '11734_left', '1177_left', '932_right', '14340_right',\n",
       "       '3444_right', '28093_left', '25650_left', '25872_left',\n",
       "       '25533_right', '10510_left', '15795_right', '25733_right',\n",
       "       '24772_right', '18235_right', '5140_right', '9951_right',\n",
       "       '13222_right', '21835_left', '5139_right', '1162_right',\n",
       "       '16011_right', '15954_left', '23453_left', '21796_right',\n",
       "       '352_left', '6736_left', '2577_right', '11590_right',\n",
       "       '18656_right', '18350_right', '18025_right', '932_left',\n",
       "       '2862_left', '28093_right', '23244_right', '163_right',\n",
       "       '15930_left', '17114_left', '11871_left', '1196_left',\n",
       "       '14029_right', '2901_right', '12014_left', '1919_left',\n",
       "       '8565_right', '12490_right', '28052_left', '9590_right',\n",
       "       '23426_right', '25318_left', '10606_right', '23485_left',\n",
       "       '3523_left', '15798_left', '8798_right', '25593_left',\n",
       "       '23787_right', '10606_left', '8302_left', '16624_right',\n",
       "       '16692_right', '23244_left', '16134_right', '5823_left',\n",
       "       '18416_right', '3868_right', '28122_right', '28053_right',\n",
       "       '6875_right', '18350_left', '19018_left', '22978_right',\n",
       "       '25533_left', '16727_right', '16624_left', '18968_left',\n",
       "       '24140_right'], dtype=object)"
      ]
     },
     "execution_count": 13,
     "metadata": {},
     "output_type": "execute_result"
    }
   ],
   "source": [
    "severe_dr"
   ]
  },
  {
   "cell_type": "code",
   "execution_count": 14,
   "metadata": {},
   "outputs": [
    {
     "data": {
      "text/plain": [
       "300"
      ]
     },
     "execution_count": 14,
     "metadata": {},
     "output_type": "execute_result"
    }
   ],
   "source": [
    "len(severe_dr)"
   ]
  },
  {
   "cell_type": "code",
   "execution_count": 15,
   "metadata": {},
   "outputs": [],
   "source": [
    "proliferative_dr = df.loc[(df.level == 4)][\"image\"].sample(300,random_state=42).values"
   ]
  },
  {
   "cell_type": "code",
   "execution_count": 16,
   "metadata": {},
   "outputs": [
    {
     "data": {
      "text/plain": [
       "array(['19116_right', '2810_left', '21190_right', '21033_right',\n",
       "       '10017_left', '13387_left', '18803_right', '7164_right',\n",
       "       '25080_left', '1663_right', '4496_left', '10904_left', '9518_left',\n",
       "       '23403_left', '22665_left', '3563_left', '25378_right',\n",
       "       '14976_right', '24472_right', '5105_right', '4909_left',\n",
       "       '9298_left', '16046_right', '8292_left', '13669_right',\n",
       "       '14340_left', '5032_left', '28675_left', '367_right',\n",
       "       '21373_right', '23736_left', '15975_left', '27081_right',\n",
       "       '8087_right', '28948_left', '4793_left', '17925_left',\n",
       "       '19771_right', '8743_left', '4909_right', '18059_right',\n",
       "       '6017_right', '19347_right', '4496_right', '27251_right',\n",
       "       '4688_right', '4252_right', '11896_left', '25985_left',\n",
       "       '27727_left', '17669_right', '2031_right', '15941_left',\n",
       "       '19663_left', '23433_left', '25181_left', '405_right',\n",
       "       '24910_left', '458_right', '28524_right', '22568_left', '16_left',\n",
       "       '936_right', '18798_left', '19110_right', '3563_right',\n",
       "       '17940_right', '21205_right', '19110_left', '27395_right',\n",
       "       '28386_left', '24010_left', '1138_right', '27674_left',\n",
       "       '19471_right', '23326_left', '2916_left', '13819_right',\n",
       "       '28743_left', '8236_right', '15343_right', '18567_left',\n",
       "       '18819_left', '1084_right', '3064_left', '28435_left',\n",
       "       '28948_right', '9353_right', '6613_left', '3611_right',\n",
       "       '13038_right', '1138_left', '670_right', '4130_left', '19347_left',\n",
       "       '22665_right', '1941_left', '5258_right', '23692_left',\n",
       "       '8950_left', '12419_left', '10017_right', '6613_right',\n",
       "       '25972_right', '10954_right', '17453_right', '18017_left',\n",
       "       '24853_left', '7531_right', '19604_left', '294_right',\n",
       "       '2970_right', '10312_left', '9216_left', '24472_left',\n",
       "       '18370_left', '670_left', '27094_left', '28929_right',\n",
       "       '20144_left', '217_right', '936_left', '11492_left', '3993_left',\n",
       "       '14495_right', '15038_right', '11492_right', '4005_right',\n",
       "       '7992_left', '18143_right', '14844_left', '1663_left',\n",
       "       '9682_right', '17135_right', '1350_left', '326_right',\n",
       "       '26477_right', '7945_left', '15149_left', '27395_left',\n",
       "       '8292_right', '8090_left', '13066_right', '11807_left',\n",
       "       '21096_right', '22379_left', '10047_right', '26737_right',\n",
       "       '25407_right', '9518_right', '28549_left', '15414_left',\n",
       "       '22520_left', '13588_right', '7945_right', '28435_right',\n",
       "       '9608_right', '22669_left', '9942_left', '11854_left',\n",
       "       '14849_right', '5258_left', '24772_left', '25985_right',\n",
       "       '13308_right', '4531_left', '16114_right', '19005_right',\n",
       "       '13669_left', '8388_right', '27376_right', '17411_right',\n",
       "       '24853_right', '25972_left', '11896_right', '13819_left',\n",
       "       '23648_right', '22271_left', '15414_right', '2496_left',\n",
       "       '9419_right', '20752_right', '20111_left', '16413_left',\n",
       "       '19961_left', '3802_right', '7992_right', '13938_left',\n",
       "       '16114_left', '326_left', '20432_right', '19604_right',\n",
       "       '10321_left', '9863_left', '11854_right', '12108_right',\n",
       "       '405_left', '16007_right', '7398_left', '5105_left', '2804_right',\n",
       "       '19748_left', '10954_left', '27597_left', '16920_left',\n",
       "       '13395_right', '17221_left', '22906_right', '13966_left',\n",
       "       '13222_left', '6017_left', '15975_right', '10785_left',\n",
       "       '16392_left', '9682_left', '217_left', '6096_right', '22894_left',\n",
       "       '4252_left', '28077_right', '8681_right', '21096_left',\n",
       "       '6707_right', '9598_right', '21511_left', '20144_right',\n",
       "       '15459_left', '6719_left', '17899_right', '4155_right',\n",
       "       '1099_right', '2804_left', '9608_left', '8681_left', '12108_left',\n",
       "       '13664_right', '12014_right', '4130_right', '19588_left',\n",
       "       '17489_right', '20855_right', '19771_left', '23422_left',\n",
       "       '23906_right', '24910_right', '8743_right', '9680_left',\n",
       "       '24773_right', '17453_left', '14844_right', '15038_left',\n",
       "       '5825_left', '23831_left', '14436_right', '9157_left',\n",
       "       '23831_right', '23692_right', '22901_left', '21444_left',\n",
       "       '16802_right', '20026_right', '25080_right', '25741_right',\n",
       "       '8087_left', '11874_right', '27597_right', '19485_right',\n",
       "       '19061_right', '29027_right', '20146_right', '15343_left',\n",
       "       '22669_right', '10785_right', '9353_left', '13387_right',\n",
       "       '16565_right', '15149_right', '8236_left', '8462_left',\n",
       "       '14849_left', '22901_right', '23326_right', '9156_left',\n",
       "       '23433_right', '7853_right', '21190_left', '29027_left',\n",
       "       '9298_right', '25407_left', '2970_left', '27081_left',\n",
       "       '4086_right', '18030_right', '5304_right', '15590_right',\n",
       "       '12419_right', '10570_left', '406_left', '2338_right',\n",
       "       '1430_right'], dtype=object)"
      ]
     },
     "execution_count": 16,
     "metadata": {},
     "output_type": "execute_result"
    }
   ],
   "source": [
    "proliferative_dr"
   ]
  },
  {
   "cell_type": "code",
   "execution_count": 17,
   "metadata": {},
   "outputs": [
    {
     "data": {
      "text/plain": [
       "300"
      ]
     },
     "execution_count": 17,
     "metadata": {},
     "output_type": "execute_result"
    }
   ],
   "source": [
    "len(proliferative_dr)"
   ]
  },
  {
   "cell_type": "code",
   "execution_count": 18,
   "metadata": {},
   "outputs": [],
   "source": [
    "import os"
   ]
  },
  {
   "cell_type": "code",
   "execution_count": 19,
   "metadata": {},
   "outputs": [],
   "source": [
    "dataset_dir=\"D:\\\\Ocular\\\\train_zip\\\\train\""
   ]
  },
  {
   "cell_type": "code",
   "execution_count": 20,
   "metadata": {},
   "outputs": [],
   "source": [
    "normal_dir=\"D:\\\\Ocular\\\\diabetic_data\\\\normal\""
   ]
  },
  {
   "cell_type": "code",
   "execution_count": 23,
   "metadata": {},
   "outputs": [
    {
     "data": {
      "text/plain": [
       "'24695_right.jpeg'"
      ]
     },
     "execution_count": 23,
     "metadata": {},
     "output_type": "execute_result"
    }
   ],
   "source": [
    "normal = normal + \".jpeg\"\n",
    "normal[1]"
   ]
  },
  {
   "cell_type": "code",
   "execution_count": 24,
   "metadata": {},
   "outputs": [],
   "source": [
    "for img in normal:\n",
    "    image_path=os.path.join(dataset_dir,img)\n",
    "    out_path=os.path.join(normal_dir,img)\n",
    "    try:\n",
    "        image=cv2.imread(image_path)\n",
    "        cv2.imwrite(out_path,image)\n",
    "    except:\n",
    "        continue"
   ]
  },
  {
   "cell_type": "code",
   "execution_count": 25,
   "metadata": {},
   "outputs": [
    {
     "data": {
      "text/plain": [
       "'4916_left.jpeg'"
      ]
     },
     "execution_count": 25,
     "metadata": {},
     "output_type": "execute_result"
    }
   ],
   "source": [
    "mild_dr = mild_dr + \".jpeg\"\n",
    "mild_dr[1]"
   ]
  },
  {
   "cell_type": "code",
   "execution_count": 26,
   "metadata": {},
   "outputs": [],
   "source": [
    "mild_dir=\"D:\\\\Ocular\\\\diabetic_data\\\\mild_dr\""
   ]
  },
  {
   "cell_type": "code",
   "execution_count": 27,
   "metadata": {},
   "outputs": [],
   "source": [
    "for img in mild_dr:\n",
    "    image_path=os.path.join(dataset_dir,img)\n",
    "    out_path=os.path.join(mild_dir,img)\n",
    "    try:\n",
    "        image=cv2.imread(image_path)\n",
    "        cv2.imwrite(out_path,image)\n",
    "    except:\n",
    "        continue"
   ]
  },
  {
   "cell_type": "code",
   "execution_count": 28,
   "metadata": {},
   "outputs": [
    {
     "data": {
      "text/plain": [
       "'2272_right.jpeg'"
      ]
     },
     "execution_count": 28,
     "metadata": {},
     "output_type": "execute_result"
    }
   ],
   "source": [
    "moderate_dr = moderate_dr + \".jpeg\"\n",
    "moderate_dr[1]"
   ]
  },
  {
   "cell_type": "code",
   "execution_count": 29,
   "metadata": {},
   "outputs": [],
   "source": [
    "moderate_dir=\"D:\\\\Ocular\\\\diabetic_data\\\\moderate_dr\""
   ]
  },
  {
   "cell_type": "code",
   "execution_count": 30,
   "metadata": {},
   "outputs": [],
   "source": [
    "for img in moderate_dr:\n",
    "    image_path=os.path.join(dataset_dir,img)\n",
    "    out_path=os.path.join(moderate_dir,img)\n",
    "    try:\n",
    "        image=cv2.imread(image_path)\n",
    "        cv2.imwrite(out_path,image)\n",
    "    except:\n",
    "        continue"
   ]
  },
  {
   "cell_type": "code",
   "execution_count": 31,
   "metadata": {},
   "outputs": [
    {
     "data": {
      "text/plain": [
       "'3748_right.jpeg'"
      ]
     },
     "execution_count": 31,
     "metadata": {},
     "output_type": "execute_result"
    }
   ],
   "source": [
    "severe_dr = severe_dr + \".jpeg\"\n",
    "severe_dr[1]"
   ]
  },
  {
   "cell_type": "code",
   "execution_count": 32,
   "metadata": {},
   "outputs": [],
   "source": [
    "severe_dir=\"D:\\\\Ocular\\\\diabetic_data\\\\severe_dr\""
   ]
  },
  {
   "cell_type": "code",
   "execution_count": 33,
   "metadata": {},
   "outputs": [],
   "source": [
    "for img in severe_dr:\n",
    "    image_path=os.path.join(dataset_dir,img)\n",
    "    out_path=os.path.join(severe_dir,img)\n",
    "    try:\n",
    "        image=cv2.imread(image_path)\n",
    "        cv2.imwrite(out_path,image)\n",
    "    except:\n",
    "        continue"
   ]
  },
  {
   "cell_type": "code",
   "execution_count": 34,
   "metadata": {},
   "outputs": [
    {
     "data": {
      "text/plain": [
       "'2810_left.jpeg'"
      ]
     },
     "execution_count": 34,
     "metadata": {},
     "output_type": "execute_result"
    }
   ],
   "source": [
    "proliferative_dr = proliferative_dr + \".jpeg\"\n",
    "proliferative_dr[1]"
   ]
  },
  {
   "cell_type": "code",
   "execution_count": 37,
   "metadata": {},
   "outputs": [],
   "source": [
    "proliferative_dir=\"D:\\\\Ocular\\\\diabetic_data\\\\proliferative_dr\""
   ]
  },
  {
   "cell_type": "code",
   "execution_count": 38,
   "metadata": {},
   "outputs": [],
   "source": [
    "for img in proliferative_dr:\n",
    "    image_path=os.path.join(dataset_dir,img)\n",
    "    out_path=os.path.join(proliferative_dir,img)\n",
    "    try:\n",
    "        image=cv2.imread(image_path)\n",
    "        cv2.imwrite(out_path,image)\n",
    "    except:\n",
    "        continue"
   ]
  },
  {
   "cell_type": "code",
   "execution_count": 43,
   "metadata": {},
   "outputs": [],
   "source": [
    "from tensorflow.keras.preprocessing.image import load_img,img_to_array\n",
    "dataset_dir = \"D:/Ocular/dataset_final/\"\n",
    "image_size=224\n",
    "labels = []\n",
    "dataset = []\n",
    "def create_dataset(image_category,label):\n",
    "    for img in tqdm(image_category):\n",
    "        image_path = os.path.join(dataset_dir,img)\n",
    "        try:\n",
    "            image = cv2.imread(image_path,cv2.IMREAD_COLOR)\n",
    "            image = cv2.cvtColor(image, cv2.COLOR_BGR2RGB)\n",
    "            #image = cv2.cvtColor(image, cv2.COLOR_BGR2GRAY)\n",
    "           \n",
    "            image = cv2.resize(image,(image_size,image_size))\n",
    "            \n",
    "        except:\n",
    "            continue\n",
    "        \n",
    "        dataset.append([np.array(image),np.array(label)])\n",
    "    random.shuffle(dataset)\n",
    "    return dataset"
   ]
  },
  {
   "cell_type": "code",
   "execution_count": 44,
   "metadata": {},
   "outputs": [
    {
     "name": "stderr",
     "output_type": "stream",
     "text": [
      "100%|███████████████████████████████████████████████████████████████████████████| 1200/1200 [00:00<00:00, 24538.62it/s]\n"
     ]
    }
   ],
   "source": [
    "dataset = create_dataset(normal,0)"
   ]
  },
  {
   "cell_type": "code",
   "execution_count": 42,
   "metadata": {},
   "outputs": [
    {
     "data": {
      "text/plain": [
       "0"
      ]
     },
     "execution_count": 42,
     "metadata": {},
     "output_type": "execute_result"
    }
   ],
   "source": [
    "len(dataset)"
   ]
  },
  {
   "cell_type": "code",
   "execution_count": null,
   "metadata": {},
   "outputs": [],
   "source": []
  }
 ],
 "metadata": {
  "kernelspec": {
   "display_name": "Python [conda env:opular]",
   "language": "python",
   "name": "conda-env-opular-py"
  },
  "language_info": {
   "codemirror_mode": {
    "name": "ipython",
    "version": 3
   },
   "file_extension": ".py",
   "mimetype": "text/x-python",
   "name": "python",
   "nbconvert_exporter": "python",
   "pygments_lexer": "ipython3",
   "version": "3.6.12"
  }
 },
 "nbformat": 4,
 "nbformat_minor": 4
}
